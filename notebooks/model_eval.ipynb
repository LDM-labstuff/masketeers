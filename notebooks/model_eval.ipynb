{
 "cells": [
  {
   "cell_type": "code",
   "execution_count": 3,
   "id": "1a904c41",
   "metadata": {},
   "outputs": [],
   "source": [
    "import torch\n",
    "import numpy as np\n",
    "import random\n",
    "import zarr\n",
    "from skimage.segmentation import relabel_sequential\n",
    "from scipy.ndimage import distance_transform_edt, map_coordinates\n",
    "from matplotlib import gridspec, ticker\n",
    "import matplotlib.pyplot as plt\n",
    "from matplotlib.colors import ListedColormap\n",
    "from torch.utils.data import DataLoader, random_split\n",
    "import torch.nn as nn\n",
    "from dlmbl_unet import UNet\n",
    "\n",
    "import torchvision.transforms.v2 as transforms_v2"
   ]
  },
  {
   "cell_type": "code",
   "execution_count": 4,
   "id": "9bd9a56d",
   "metadata": {},
   "outputs": [
    {
     "data": {
      "text/plain": [
       "<All keys matched successfully>"
      ]
     },
     "execution_count": 4,
     "metadata": {},
     "output_type": "execute_result"
    }
   ],
   "source": [
    "model = UNet(\n",
    "    depth = 4,\n",
    "    in_channels=1,\n",
    "    out_channels=1,\n",
    "    final_activation=nn.Tanh(),\n",
    "    num_fmaps=16)\n",
    "\n",
    "learning_rate = 1e-4\n",
    "optimizer = torch.optim.Adam (model.parameters(), lr = learning_rate)\n",
    "\n",
    "checkpoint = torch.load (\"/mnt/efs/aimbl_2025/student_data/S-DM/Data/checkpoints/unet_170.pth\")\n",
    "model.load_state_dict (checkpoint['unet'])"
   ]
  },
  {
   "cell_type": "code",
   "execution_count": 5,
   "id": "593224c3",
   "metadata": {},
   "outputs": [
    {
     "ename": "NameError",
     "evalue": "name 'validation' is not defined",
     "output_type": "error",
     "traceback": [
      "\u001b[31m---------------------------------------------------------------------------\u001b[39m",
      "\u001b[31mNameError\u001b[39m                                 Traceback (most recent call last)",
      "\u001b[36mCell\u001b[39m\u001b[36m \u001b[39m\u001b[32mIn[5]\u001b[39m\u001b[32m, line 1\u001b[39m\n\u001b[32m----> \u001b[39m\u001b[32m1\u001b[39m validation_dataloader = DataLoader(\u001b[43mvalidation\u001b[49m)\n\u001b[32m      2\u001b[39m model.eval()\n\u001b[32m      3\u001b[39m idx = np.random.randint(\u001b[38;5;28mlen\u001b[39m(validation))  \u001b[38;5;66;03m# take a random sample.\u001b[39;00m\n",
      "\u001b[31mNameError\u001b[39m: name 'validation' is not defined"
     ]
    }
   ],
   "source": [
    "validation_dataloader = DataLoader(validation)\n",
    "model.eval()\n",
    "idx = np.random.randint(len(validation))  # take a random sample.\n",
    "image, sdt = validation[idx]  # get the image and the nuclei masks.\n",
    "image = image.to(device)\n",
    "pred = model (torch.unsqueeze(image, dim=0))\n",
    "image = np.squeeze(image.cpu())\n",
    "sdt = np.squeeze(sdt.cpu().numpy())\n",
    "pred = np.squeeze(pred.cpu().detach().numpy())\n",
    "plot_three(image, sdt, pred)"
   ]
  }
 ],
 "metadata": {
  "kernelspec": {
   "display_name": "masketeers",
   "language": "python",
   "name": "python3"
  },
  "language_info": {
   "codemirror_mode": {
    "name": "ipython",
    "version": 3
   },
   "file_extension": ".py",
   "mimetype": "text/x-python",
   "name": "python",
   "nbconvert_exporter": "python",
   "pygments_lexer": "ipython3",
   "version": "3.11.13"
  }
 },
 "nbformat": 4,
 "nbformat_minor": 5
}
