{
 "cells": [
  {
   "cell_type": "markdown",
   "id": "456a6f14",
   "metadata": {},
   "source": [
    "### Set up NoMachine with port forwarding\n",
    "1. From VSCode connected to your remote machine, forward a port (e.g. `4000`) to your local machine.\n",
    "    - Open you command palette in VSCode (usually CMD-Shift-P) and type \"forward a port\"\n",
    "    - Then type in the desired port number `4000` and hit enter\n",
    "    - From the \"PORTS\" tab, you should see port 4000 listed as a forwarded port\n",
    "2. Download and install [NoMachine](https://www.nomachine.com/download) on your local machine if it is not already installed.\n",
    "3. Enter the server address in host, set the port to match the port you forwarded in step 1 and protocol as NX. Feel free to enter any name you would like.\n",
    "4. Click on the configuration tab on the left.\n",
    "5. Choose \"Use key-based authentication with a key you provide\" and hit the \"Modify\" button.\n",
    "6. Provide the path to your ssh key .pem file.\n",
    "7. Finally hit connect (or Add).\n",
    "8. If you are asked to create a desktop, click yes.\n",
    "9. You should then see a time and date, hitting enter should let you enter your username and access the desktop. The first login may be slow.\n",
    "10. Still in NoMachine, open a shell window. Hit the application button in the bottom left corner and launch \"Konsole\"\n",
    "11. From the shell, run `echo $DISPLAY`. Copy the output. It should be something like `:1005`\n",
    "12. Return to your notebook in VSCode, and proceed with the exercise.\n",
    "13. Modify the cell below to input the DISPLAY port you retrieved in step 11"
   ]
  },
  {
   "cell_type": "code",
   "execution_count": 1,
   "id": "9a6a1654",
   "metadata": {},
   "outputs": [],
   "source": [
    "import os\n",
    "os.environ[\"DISPLAY\"] = ':1001'"
   ]
  },
  {
   "cell_type": "code",
   "execution_count": 2,
   "id": "982c50aa",
   "metadata": {},
   "outputs": [],
   "source": [
    "import napari\n",
    "import zarr\n"
   ]
  },
  {
   "cell_type": "code",
   "execution_count": 5,
   "id": "8b0d2784",
   "metadata": {},
   "outputs": [],
   "source": [
    "\n",
    "data_omni ='/mnt/efs/aimbl_2025/student_data/S-LS/omni_seg.zarr'\n",
    "data_raw = '/mnt/efs/aimbl_2025/student_data/S-LS/my_data2.zarr'\n",
    "data_omni = zarr.open(data_omni, mode='r')\n",
    "data_raw= zarr.open(data_raw, mode='r')\n",
    "gt=data_raw['mask_bacteria']['masks_bacteria_stack'][:]\n",
    "raw_bacteria = data_raw['bacteria']['raw_bacteria_stack'][:]\n",
    "omni = data_omni[:]\n"
   ]
  },
  {
   "cell_type": "code",
   "execution_count": 6,
   "id": "0af78772",
   "metadata": {},
   "outputs": [],
   "source": [
    "viewer = napari.Viewer()"
   ]
  },
  {
   "cell_type": "code",
   "execution_count": 7,
   "id": "a1572e89",
   "metadata": {},
   "outputs": [
    {
     "data": {
      "text/plain": [
       "<Labels layer 'groundtruth' at 0x7f7b43cfacd0>"
      ]
     },
     "execution_count": 7,
     "metadata": {},
     "output_type": "execute_result"
    }
   ],
   "source": [
    "viewer.add_image(raw_bacteria[0:12], name=\"raw_image\")\n",
    "viewer.add_labels(omni, name='omnipose')\n",
    "viewer.add_labels(gt, name='groundtruth')"
   ]
  }
 ],
 "metadata": {
  "kernelspec": {
   "display_name": "masketeers",
   "language": "python",
   "name": "python3"
  },
  "language_info": {
   "codemirror_mode": {
    "name": "ipython",
    "version": 3
   },
   "file_extension": ".py",
   "mimetype": "text/x-python",
   "name": "python",
   "nbconvert_exporter": "python",
   "pygments_lexer": "ipython3",
   "version": "3.11.13"
  }
 },
 "nbformat": 4,
 "nbformat_minor": 5
}
