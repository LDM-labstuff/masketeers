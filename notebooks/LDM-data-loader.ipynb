{
 "cells": [
  {
   "cell_type": "markdown",
   "id": "98457078",
   "metadata": {},
   "source": [
    "1. Obtain cropped images from zarr file, max project them and save them back to the zarr file\n",
    "Only need to run this cell once! Once the cropped images are saved as max projections go directly to the next cell."
   ]
  },
  {
   "cell_type": "code",
   "execution_count": 37,
   "id": "59f479c6",
   "metadata": {},
   "outputs": [
    {
     "name": "stdout",
     "output_type": "stream",
     "text": [
      "Treatments found in zarr file: ['8nMActD', 'DMSO', '1uMdoxo', 'CX5461', '5uMflavo', '800nMActD', '10uMmg132', '10uMwort']\n",
      "Image array for 8nMActD has 1763 images\n",
      "Image shape is: (15, 3, 128, 128)\n",
      "Image array for DMSO has 2044 images\n",
      "Image shape is: (15, 3, 128, 128)\n",
      "Image array for 1uMdoxo has 1062 images\n",
      "Image shape is: (15, 3, 128, 128)\n",
      "Image array for CX5461 has 2189 images\n",
      "Image shape is: (15, 3, 128, 128)\n",
      "Image array for 5uMflavo has 1493 images\n",
      "Image shape is: (15, 3, 128, 128)\n",
      "Image array for 800nMActD has 1654 images\n",
      "Image shape is: (15, 3, 128, 128)\n",
      "Image array for 10uMmg132 has 1183 images\n",
      "Image shape is: (15, 3, 128, 128)\n",
      "Image array for 10uMwort has 1820 images\n",
      "Image shape is: (15, 3, 128, 128)\n"
     ]
    },
    {
     "name": "stderr",
     "output_type": "stream",
     "text": [
      "Loading images for 8nMActD: 100%|██████████| 1763/1763 [06:12<00:00,  4.73it/s]\n"
     ]
    },
    {
     "name": "stdout",
     "output_type": "stream",
     "text": [
      "Created array for treatment '8nMActD' with shape (1763, 3, 128, 128)\n"
     ]
    },
    {
     "name": "stderr",
     "output_type": "stream",
     "text": [
      "Loading images for DMSO: 100%|██████████| 2044/2044 [07:40<00:00,  4.43it/s]\n"
     ]
    },
    {
     "name": "stdout",
     "output_type": "stream",
     "text": [
      "Created array for treatment 'DMSO' with shape (2044, 3, 128, 128)\n"
     ]
    },
    {
     "name": "stderr",
     "output_type": "stream",
     "text": [
      "Loading images for 1uMdoxo: 100%|██████████| 1062/1062 [02:22<00:00,  7.43it/s]\n"
     ]
    },
    {
     "name": "stdout",
     "output_type": "stream",
     "text": [
      "Created array for treatment '1uMdoxo' with shape (1062, 3, 128, 128)\n"
     ]
    },
    {
     "name": "stderr",
     "output_type": "stream",
     "text": [
      "Loading images for CX5461: 100%|██████████| 2189/2189 [08:14<00:00,  4.43it/s]\n"
     ]
    },
    {
     "name": "stdout",
     "output_type": "stream",
     "text": [
      "Created array for treatment 'CX5461' with shape (2189, 3, 128, 128)\n"
     ]
    },
    {
     "name": "stderr",
     "output_type": "stream",
     "text": [
      "Loading images for 5uMflavo: 100%|██████████| 1493/1493 [03:43<00:00,  6.69it/s]\n"
     ]
    },
    {
     "name": "stdout",
     "output_type": "stream",
     "text": [
      "Created array for treatment '5uMflavo' with shape (1493, 3, 128, 128)\n"
     ]
    },
    {
     "name": "stderr",
     "output_type": "stream",
     "text": [
      "Loading images for 800nMActD: 100%|██████████| 1654/1654 [05:49<00:00,  4.73it/s]\n"
     ]
    },
    {
     "name": "stdout",
     "output_type": "stream",
     "text": [
      "Created array for treatment '800nMActD' with shape (1654, 3, 128, 128)\n"
     ]
    },
    {
     "name": "stderr",
     "output_type": "stream",
     "text": [
      "Loading images for 10uMmg132: 100%|██████████| 1183/1183 [02:42<00:00,  7.26it/s]\n"
     ]
    },
    {
     "name": "stdout",
     "output_type": "stream",
     "text": [
      "Created array for treatment '10uMmg132' with shape (1183, 3, 128, 128)\n"
     ]
    },
    {
     "name": "stderr",
     "output_type": "stream",
     "text": [
      "Loading images for 10uMwort: 100%|██████████| 1820/1820 [06:28<00:00,  4.68it/s]\n"
     ]
    },
    {
     "name": "stdout",
     "output_type": "stream",
     "text": [
      "Created array for treatment '10uMwort' with shape (1820, 3, 128, 128)\n"
     ]
    }
   ],
   "source": [
    "import zarr\n",
    "from tqdm import tqdm\n",
    "import numpy as np\n",
    "\n",
    "\n",
    "# Load zarr file\n",
    "z= zarr.open(\"/mnt/efs/aimbl_2025/student_data/S-DD/LDM_treatments.zarr\", mode=\"r\")\n",
    "\n",
    "# Explore zarr to find treatments and masks\n",
    "def obtain_image_dataset_size(zarr_array):\n",
    "    # Identify treatmens in the zarr file\n",
    "    treatments = list(z.keys())\n",
    "    print(f\"Treatments found in zarr file: {treatments}\")\n",
    "    treatment_image_num = {}\n",
    "    for treatment in treatments:\n",
    "        image_num = z[treatment]['cimages_maskout'].shape[0]\n",
    "        treatment_image_num[treatment] = image_num\n",
    "        print(f\"Image array for {treatment} has {image_num} images\")\n",
    "        image_shape = z[treatment]['cimages_maskout'][0].shape\n",
    "        print(f\"Image shape is: {image_shape}\")\n",
    "    return treatments, treatment_image_num\n",
    "def max_project_images(treatments, z):\n",
    "    # Load images into the numpy array\n",
    "    for treatment in treatments:\n",
    "        num_images = treatment_image_num[treatment]\n",
    "        treatment_proj_array = np.zeros((num_images, 3, 128, 128), dtype=np.uint8)\n",
    "        for i in tqdm(range(num_images), desc=f\"Loading images for {treatment}\"):\n",
    "            image = z[treatment]['cimages_maskout'][i]\n",
    "            treatment_proj_array[i] = np.max(image, axis=0)\n",
    "            image = z[treatment]['cimages_maskout'][i]\n",
    "            treatment_proj_array[i] = np.max(image, axis=0)\n",
    "        print(f\"Created array for treatment '{treatment}' with shape {treatment_proj_array.shape}\")\n",
    "  \n",
    "        # Save the numpy array to the zarr file\n",
    "        zarr.create_array(store=\"/mnt/efs/aimbl_2025/student_data/S-DD/LDM_treatments.zarr\", name=f\"{treatment}/cimages_max\", data= treatment_proj_array, chunks=(1, 3, 128, 128))\n",
    "\n",
    "treatments, treatment_image_num = obtain_image_dataset_size(z)\n",
    "# for treatment in treatments:\n",
    "#     print(f\"Image number for treatment {treatment} is {treatment_image_num[treatment]}\")\n",
    "treatment_proj_array = max_project_images(treatments, z)"
   ]
  },
  {
   "cell_type": "markdown",
   "id": "bd89bba5",
   "metadata": {},
   "source": [
    "Load images from zarr to torch dataset"
   ]
  },
  {
   "cell_type": "code",
   "execution_count": 71,
   "id": "03b972aa",
   "metadata": {},
   "outputs": [
    {
     "name": "stdout",
     "output_type": "stream",
     "text": [
      "the treatment group shape is (1183, 3, 128, 128)\n",
      "the treatment group shape is (1062, 3, 128, 128)\n",
      "the treatment group shape is (2044, 3, 128, 128)\n",
      "the treatment group shape is (1493, 3, 128, 128)\n",
      "the treatment group shape is (1820, 3, 128, 128)\n",
      "the treatment group shape is (1654, 3, 128, 128)\n",
      "the treatment group shape is (1763, 3, 128, 128)\n",
      "the treatment group shape is (2189, 3, 128, 128)\n"
     ]
    }
   ],
   "source": [
    "import zarr\n",
    "import torch\n",
    "from torch.utils.data import Dataset, DataLoader\n",
    "import numpy as np\n",
    "from sklearn.preprocessing import OneHotEncoder\n",
    "\n",
    "class ZarrImageDataset(Dataset):\n",
    "    def __init__(self, zarr_path, transform=None):\n",
    "        self.root = zarr.open(zarr_path, mode='r')\n",
    "        self.transform = transform\n",
    "        self.images = []\n",
    "        self.labels = []\n",
    "        self.label_map = {name: idx for idx, name in enumerate(self.root.group_keys())}\n",
    "\n",
    "        # Load images and labels\n",
    "        # map treatments to integer labels\n",
    "        for treatment_name in self.root.group_keys():\n",
    "            treatment_group = self.root[treatment_name]['cimages_max']\n",
    "            print(f\"the treatment group shape is {treatment_group.shape}\")\n",
    "            for i in range(treatment_group.shape[0]):\n",
    "                img = treatment_group[i]\n",
    "                self.images.append(img)\n",
    "                self.labels.append(self.label_map[treatment_name])\n",
    "        # self.labels = np.array(self.labels).reshape(-1, 1)\n",
    "        # enc = OneHotEncoder(categories=[['8nMActD', 'DMSO', '1uMdoxo', 'CX5461', '5uMflavo', '800nMActD', '10uMmg132', '10uMwort']]).fit(self.labels)\n",
    "        # self.labels = enc.transform(self.labels).toarray()\n",
    "\n",
    "    def __len__(self):\n",
    "        return len(self.images)\n",
    "\n",
    "    def __getitem__(self, idx):\n",
    "        img = self.images[idx]\n",
    "        label = self.labels[idx]\n",
    "        # Convert to torch tensor\n",
    "        img_tensor = torch.tensor(img, dtype=torch.float32)\n",
    "        label_tensor = torch.tensor(label, dtype=torch.long)\n",
    "\n",
    "        if self.transform:\n",
    "            img_tensor = self.transform(img_tensor)\n",
    "\n",
    "        return img_tensor, label_tensor\n",
    "\n",
    "# Call the function to create the dataset\n",
    "zarr_path = '/mnt/efs/aimbl_2025/student_data/S-DD/LDM_treatments.zarr'\n",
    "dataset = ZarrImageDataset(zarr_path)\n",
    "# # Data loader\n",
    "# loader = DataLoader(dataset, batch_size=32, shuffle=True)\n",
    "\n",
    "\n"
   ]
  },
  {
   "cell_type": "code",
   "execution_count": 60,
   "id": "b1ba86f6",
   "metadata": {},
   "outputs": [
    {
     "name": "stdout",
     "output_type": "stream",
     "text": [
      "Image shape is: (3, 128, 128)\n",
      "Image 0 shape: torch.Size([3, 128, 128]), dtype: torch.float32\n",
      "Label 0: tensor([0, 0, 0, 0, 0, 0, 1, 0])\n",
      "Image shape is: (3, 128, 128)\n",
      "Image 1 shape: torch.Size([3, 128, 128]), dtype: torch.float32\n",
      "Label 1: tensor([0, 0, 0, 0, 0, 0, 1, 0])\n",
      "Image shape is: (3, 128, 128)\n",
      "Image 2 shape: torch.Size([3, 128, 128]), dtype: torch.float32\n",
      "Label 2: tensor([0, 0, 0, 0, 0, 0, 1, 0])\n",
      "Image shape is: (3, 128, 128)\n",
      "Image 3 shape: torch.Size([3, 128, 128]), dtype: torch.float32\n",
      "Label 3: tensor([0, 0, 0, 0, 0, 0, 1, 0])\n",
      "Image shape is: (3, 128, 128)\n",
      "Image 4 shape: torch.Size([3, 128, 128]), dtype: torch.float32\n",
      "Label 4: tensor([0, 0, 0, 0, 0, 0, 1, 0])\n",
      "Image shape is: (3, 128, 128)\n",
      "Image 5 shape: torch.Size([3, 128, 128]), dtype: torch.float32\n",
      "Label 5: tensor([0, 0, 0, 0, 0, 0, 1, 0])\n",
      "Image shape is: (3, 128, 128)\n",
      "Image 6 shape: torch.Size([3, 128, 128]), dtype: torch.float32\n",
      "Label 6: tensor([0, 0, 0, 0, 0, 0, 1, 0])\n",
      "Image shape is: (3, 128, 128)\n",
      "Image 7 shape: torch.Size([3, 128, 128]), dtype: torch.float32\n",
      "Label 7: tensor([0, 0, 0, 0, 0, 0, 1, 0])\n",
      "Image shape is: (3, 128, 128)\n",
      "Image 8 shape: torch.Size([3, 128, 128]), dtype: torch.float32\n",
      "Label 8: tensor([0, 0, 0, 0, 0, 0, 1, 0])\n",
      "Image shape is: (3, 128, 128)\n",
      "Image 9 shape: torch.Size([3, 128, 128]), dtype: torch.float32\n",
      "Label 9: tensor([0, 0, 0, 0, 0, 0, 1, 0])\n",
      "Image shape is: (3, 128, 128)\n",
      "Image 10 shape: torch.Size([3, 128, 128]), dtype: torch.float32\n",
      "Label 10: tensor([0, 0, 0, 0, 0, 0, 1, 0])\n",
      "Image shape is: (3, 128, 128)\n",
      "Image 11 shape: torch.Size([3, 128, 128]), dtype: torch.float32\n",
      "Label 11: tensor([0, 0, 0, 0, 0, 0, 1, 0])\n",
      "Image shape is: (3, 128, 128)\n",
      "Image 12 shape: torch.Size([3, 128, 128]), dtype: torch.float32\n",
      "Label 12: tensor([0, 0, 0, 0, 0, 0, 1, 0])\n",
      "Image shape is: (3, 128, 128)\n",
      "Image 13 shape: torch.Size([3, 128, 128]), dtype: torch.float32\n",
      "Label 13: tensor([0, 0, 0, 0, 0, 0, 1, 0])\n",
      "Image shape is: (3, 128, 128)\n",
      "Image 14 shape: torch.Size([3, 128, 128]), dtype: torch.float32\n",
      "Label 14: tensor([0, 0, 0, 0, 0, 0, 1, 0])\n",
      "Image shape is: (3, 128, 128)\n",
      "Image 15 shape: torch.Size([3, 128, 128]), dtype: torch.float32\n",
      "Label 15: tensor([0, 0, 0, 0, 0, 0, 1, 0])\n",
      "Image shape is: (3, 128, 128)\n",
      "Image 16 shape: torch.Size([3, 128, 128]), dtype: torch.float32\n",
      "Label 16: tensor([0, 0, 0, 0, 0, 0, 1, 0])\n",
      "Image shape is: (3, 128, 128)\n",
      "Image 17 shape: torch.Size([3, 128, 128]), dtype: torch.float32\n",
      "Label 17: tensor([0, 0, 0, 0, 0, 0, 1, 0])\n",
      "Image shape is: (3, 128, 128)\n",
      "Image 18 shape: torch.Size([3, 128, 128]), dtype: torch.float32\n",
      "Label 18: tensor([0, 0, 0, 0, 0, 0, 1, 0])\n",
      "Image shape is: (3, 128, 128)\n",
      "Image 19 shape: torch.Size([3, 128, 128]), dtype: torch.float32\n",
      "Label 19: tensor([0, 0, 0, 0, 0, 0, 1, 0])\n"
     ]
    }
   ],
   "source": [
    "#Test dataset\n",
    "for i in range(20):\n",
    "    img, label = dataset[i]\n",
    "    print(f\"Image {i} shape: {img.shape}, dtype: {img.dtype}\")\n",
    "    print(f\"Label {i}: {label}\")"
   ]
  },
  {
   "cell_type": "markdown",
   "id": "1cff414d",
   "metadata": {},
   "source": [
    "Using ResNet18 as model"
   ]
  },
  {
   "cell_type": "code",
   "execution_count": 72,
   "id": "31bfc05c",
   "metadata": {},
   "outputs": [
    {
     "name": "stdout",
     "output_type": "stream",
     "text": [
      "ResNet(\n",
      "  (conv1): Conv2d(3, 64, kernel_size=(7, 7), stride=(2, 2), padding=(3, 3), bias=False)\n",
      "  (bn1): BatchNorm2d(64, eps=1e-05, momentum=0.1, affine=True, track_running_stats=True)\n",
      "  (relu): ReLU(inplace=True)\n",
      "  (maxpool): MaxPool2d(kernel_size=3, stride=2, padding=1, dilation=1, ceil_mode=False)\n",
      "  (layer1): Sequential(\n",
      "    (0): BasicBlock(\n",
      "      (conv1): Conv2d(64, 64, kernel_size=(3, 3), stride=(1, 1), padding=(1, 1), bias=False)\n",
      "      (bn1): BatchNorm2d(64, eps=1e-05, momentum=0.1, affine=True, track_running_stats=True)\n",
      "      (relu): ReLU(inplace=True)\n",
      "      (conv2): Conv2d(64, 64, kernel_size=(3, 3), stride=(1, 1), padding=(1, 1), bias=False)\n",
      "      (bn2): BatchNorm2d(64, eps=1e-05, momentum=0.1, affine=True, track_running_stats=True)\n",
      "    )\n",
      "    (1): BasicBlock(\n",
      "      (conv1): Conv2d(64, 64, kernel_size=(3, 3), stride=(1, 1), padding=(1, 1), bias=False)\n",
      "      (bn1): BatchNorm2d(64, eps=1e-05, momentum=0.1, affine=True, track_running_stats=True)\n",
      "      (relu): ReLU(inplace=True)\n",
      "      (conv2): Conv2d(64, 64, kernel_size=(3, 3), stride=(1, 1), padding=(1, 1), bias=False)\n",
      "      (bn2): BatchNorm2d(64, eps=1e-05, momentum=0.1, affine=True, track_running_stats=True)\n",
      "    )\n",
      "  )\n",
      "  (layer2): Sequential(\n",
      "    (0): BasicBlock(\n",
      "      (conv1): Conv2d(64, 128, kernel_size=(3, 3), stride=(2, 2), padding=(1, 1), bias=False)\n",
      "      (bn1): BatchNorm2d(128, eps=1e-05, momentum=0.1, affine=True, track_running_stats=True)\n",
      "      (relu): ReLU(inplace=True)\n",
      "      (conv2): Conv2d(128, 128, kernel_size=(3, 3), stride=(1, 1), padding=(1, 1), bias=False)\n",
      "      (bn2): BatchNorm2d(128, eps=1e-05, momentum=0.1, affine=True, track_running_stats=True)\n",
      "      (downsample): Sequential(\n",
      "        (0): Conv2d(64, 128, kernel_size=(1, 1), stride=(2, 2), bias=False)\n",
      "        (1): BatchNorm2d(128, eps=1e-05, momentum=0.1, affine=True, track_running_stats=True)\n",
      "      )\n",
      "    )\n",
      "    (1): BasicBlock(\n",
      "      (conv1): Conv2d(128, 128, kernel_size=(3, 3), stride=(1, 1), padding=(1, 1), bias=False)\n",
      "      (bn1): BatchNorm2d(128, eps=1e-05, momentum=0.1, affine=True, track_running_stats=True)\n",
      "      (relu): ReLU(inplace=True)\n",
      "      (conv2): Conv2d(128, 128, kernel_size=(3, 3), stride=(1, 1), padding=(1, 1), bias=False)\n",
      "      (bn2): BatchNorm2d(128, eps=1e-05, momentum=0.1, affine=True, track_running_stats=True)\n",
      "    )\n",
      "  )\n",
      "  (layer3): Sequential(\n",
      "    (0): BasicBlock(\n",
      "      (conv1): Conv2d(128, 256, kernel_size=(3, 3), stride=(2, 2), padding=(1, 1), bias=False)\n",
      "      (bn1): BatchNorm2d(256, eps=1e-05, momentum=0.1, affine=True, track_running_stats=True)\n",
      "      (relu): ReLU(inplace=True)\n",
      "      (conv2): Conv2d(256, 256, kernel_size=(3, 3), stride=(1, 1), padding=(1, 1), bias=False)\n",
      "      (bn2): BatchNorm2d(256, eps=1e-05, momentum=0.1, affine=True, track_running_stats=True)\n",
      "      (downsample): Sequential(\n",
      "        (0): Conv2d(128, 256, kernel_size=(1, 1), stride=(2, 2), bias=False)\n",
      "        (1): BatchNorm2d(256, eps=1e-05, momentum=0.1, affine=True, track_running_stats=True)\n",
      "      )\n",
      "    )\n",
      "    (1): BasicBlock(\n",
      "      (conv1): Conv2d(256, 256, kernel_size=(3, 3), stride=(1, 1), padding=(1, 1), bias=False)\n",
      "      (bn1): BatchNorm2d(256, eps=1e-05, momentum=0.1, affine=True, track_running_stats=True)\n",
      "      (relu): ReLU(inplace=True)\n",
      "      (conv2): Conv2d(256, 256, kernel_size=(3, 3), stride=(1, 1), padding=(1, 1), bias=False)\n",
      "      (bn2): BatchNorm2d(256, eps=1e-05, momentum=0.1, affine=True, track_running_stats=True)\n",
      "    )\n",
      "  )\n",
      "  (layer4): Sequential(\n",
      "    (0): BasicBlock(\n",
      "      (conv1): Conv2d(256, 512, kernel_size=(3, 3), stride=(2, 2), padding=(1, 1), bias=False)\n",
      "      (bn1): BatchNorm2d(512, eps=1e-05, momentum=0.1, affine=True, track_running_stats=True)\n",
      "      (relu): ReLU(inplace=True)\n",
      "      (conv2): Conv2d(512, 512, kernel_size=(3, 3), stride=(1, 1), padding=(1, 1), bias=False)\n",
      "      (bn2): BatchNorm2d(512, eps=1e-05, momentum=0.1, affine=True, track_running_stats=True)\n",
      "      (downsample): Sequential(\n",
      "        (0): Conv2d(256, 512, kernel_size=(1, 1), stride=(2, 2), bias=False)\n",
      "        (1): BatchNorm2d(512, eps=1e-05, momentum=0.1, affine=True, track_running_stats=True)\n",
      "      )\n",
      "    )\n",
      "    (1): BasicBlock(\n",
      "      (conv1): Conv2d(512, 512, kernel_size=(3, 3), stride=(1, 1), padding=(1, 1), bias=False)\n",
      "      (bn1): BatchNorm2d(512, eps=1e-05, momentum=0.1, affine=True, track_running_stats=True)\n",
      "      (relu): ReLU(inplace=True)\n",
      "      (conv2): Conv2d(512, 512, kernel_size=(3, 3), stride=(1, 1), padding=(1, 1), bias=False)\n",
      "      (bn2): BatchNorm2d(512, eps=1e-05, momentum=0.1, affine=True, track_running_stats=True)\n",
      "    )\n",
      "  )\n",
      "  (avgpool): AdaptiveAvgPool2d(output_size=(1, 1))\n",
      "  (fc): Linear(in_features=512, out_features=8, bias=True)\n",
      ")\n",
      "The size of the train dataset is 9245\n",
      "The size of the eval dataset is 2641\n",
      "The size of the test dataset is 1322\n"
     ]
    }
   ],
   "source": [
    "import torchvision.models as models\n",
    "import torch.nn as nn\n",
    "import torch.optim as optim\n",
    "from torch.utils.data import random_split\n",
    "from torch.utils.data import DataLoader\n",
    "\n",
    "device = torch.device('cuda' if torch.cuda.is_available() else 'cpu')\n",
    "\n",
    "# Load pretrained ResNet-18 model\n",
    "model = models.resnet18(weights=models.ResNet18_Weights.DEFAULT)\n",
    "\n",
    "# Modify the final fully connected layer and establish model parameters\n",
    "num_epochs = 10\n",
    "learning_rate = 0.001\n",
    "batch_size = 32\n",
    "num_classes = 8\n",
    "model.fc = nn.Linear(model.fc.in_features, num_classes)\n",
    "model = model.to(device)\n",
    "print(model)\n",
    "\n",
    "# Loss and optimizer\n",
    "criterion = nn.CrossEntropyLoss()\n",
    "optimizer = optim.AdamW(model.parameters(), lr=learning_rate)\n",
    "\n",
    "#Split dataset\n",
    "# Total size of the dataset\n",
    "total_size = len(dataset)\n",
    "\n",
    "# Calculate split sizes\n",
    "train_size = int(0.7 * total_size)\n",
    "eval_size = int(0.2 * total_size)\n",
    "test_size = total_size - train_size - eval_size  # Ensures full coverage\n",
    "\n",
    "# Random split\n",
    "train_dataset, eval_dataset, test_dataset = random_split(\n",
    "    dataset,\n",
    "    [train_size, eval_size, test_size],\n",
    "    generator=torch.Generator().manual_seed(42))  # For reproducibility\n",
    "print(f\"The size of the train dataset is {len(train_dataset)}\")\n",
    "print(f\"The size of the eval dataset is {len(eval_dataset)}\")\n",
    "print(f\"The size of the test dataset is {len(test_dataset)}\")\n",
    "\n",
    "# Data loader\n",
    "\n",
    "train_loader = DataLoader(train_dataset, batch_size=batch_size, shuffle=True, num_workers=4)\n",
    "eval_loader = DataLoader(eval_dataset, batch_size=batch_size, shuffle=False, num_workers=4)\n",
    "test_loader = DataLoader(test_dataset, batch_size=batch_size, shuffle=False, num_workers=4)"
   ]
  },
  {
   "cell_type": "markdown",
   "id": "0ae6b2a0",
   "metadata": {},
   "source": [
    "Training loop"
   ]
  },
  {
   "cell_type": "code",
   "execution_count": null,
   "id": "02140ee6",
   "metadata": {},
   "outputs": [
    {
     "name": "stderr",
     "output_type": "stream",
     "text": [
      "289it [00:10, 26.80it/s]\n"
     ]
    },
    {
     "name": "stdout",
     "output_type": "stream",
     "text": [
      "model trained\n"
     ]
    },
    {
     "name": "stderr",
     "output_type": "stream",
     "text": [
      "289it [00:10, 26.74it/s] [00:18<00:04, 27.43it/s]\n"
     ]
    },
    {
     "name": "stdout",
     "output_type": "stream",
     "text": [
      "model trained\n"
     ]
    },
    {
     "data": {
      "image/png": "[encoded data removed]",
      "text/plain": [
       "<Figure size 640x480 with 1 Axes>"
      ]
     },
     "metadata": {},
     "output_type": "display_data"
    }
   ],
   "source": [
    "import torch.nn.functional as F\n",
    "# Training function:\n",
    "def train_nucleoli_resnet(model, train_loader, batch_size, criterion, optimizer):\n",
    "    model.train()\n",
    "    pbar = tqdm(total=len(train_dataset) // batch_size)\n",
    "    history = []\n",
    "    for batch_idx, (raw, target) in enumerate(train_loader):\n",
    "        optimizer.zero_grad()\n",
    "        raw = raw.to(device)\n",
    "        target = target.to(device)\n",
    "        output = model(raw)\n",
    "        # output_probabilities = F.softmax(output, dim=1)\n",
    "        loss = criterion(output, target)\n",
    "        loss.backward()\n",
    "        optimizer.step()\n",
    "        history.append(loss.item())\n",
    "        pbar.update(1)\n",
    "    return history\n",
    "\n",
    "# Training loop:\n",
    "loss_history = []\n",
    "for epoch in range(2):\n",
    "    his = train_nucleoli_resnet(model, train_loader, batch_size, criterion, optimizer)\n",
    "    loss_history.extend(his)\n",
    "\n",
    "fig, ax = plt.subplots()\n",
    "ax.plot(loss_history)\n",
    "fig.savefig('/mnt/efs/aimbl_2025/student_data/S-DD/nucleoli_restnet_trained_loss_plot.png')\n",
    "\n",
    "# Save the model\n",
    "torch.save(\n",
    "        {\"nucleoli_resnet\": model.state_dict()}, '/mnt/efs/aimbl_2025/student_data/S-DD/nucleoli_restnet_trained.pth')"
   ]
  },
  {
   "cell_type": "code",
   "execution_count": null,
   "id": "0eb566f6",
   "metadata": {},
   "outputs": [
    {
     "name": "stderr",
     "output_type": "stream",
     "text": [
      "  0%|          | 0/288 [15:12<?, ?it/s]\n",
      "  0%|          | 0/288 [11:03<?, ?it/s]\n",
      "  0%|          | 0/288 [05:43<?, ?it/s]\n",
      "Exception ignored in: <function _MultiProcessingDataLoaderIter.__del__ at 0x733decba9260>\n",
      "Traceback (most recent call last):\n",
      "  File \"/home/S-DD/conda/envs/masketeers/lib/python3.11/site-packages/torch/utils/data/dataloader.py\", line 1664, in __del__\n",
      "    self._shutdown_workers()\n",
      "  File \"/home/S-DD/conda/envs/masketeers/lib/python3.11/site-packages/torch/utils/data/dataloader.py\", line 1628, in _shutdown_workers\n",
      "    w.join(timeout=_utils.MP_STATUS_CHECK_INTERVAL)\n",
      "  File \"/home/S-DD/conda/envs/masketeers/lib/python3.11/multiprocessing/process.py\", line 149, in join\n",
      "    res = self._popen.wait(timeout)\n",
      "          ^^^^^^^^^^^^^^^^^^^^^^^^^\n",
      "  File \"/home/S-DD/conda/envs/masketeers/lib/python3.11/multiprocessing/popen_fork.py\", line 40, in wait\n",
      "    if not wait([self.sentinel], timeout):\n",
      "           ^^^^^^^^^^^^^^^^^^^^^^^^^^^^^^\n",
      "  File \"/home/S-DD/conda/envs/masketeers/lib/python3.11/multiprocessing/connection.py\", line 948, in wait\n",
      "    ready = selector.select(timeout)\n",
      "            ^^^^^^^^^^^^^^^^^^^^^^^^\n",
      "  File \"/home/S-DD/conda/envs/masketeers/lib/python3.11/selectors.py\", line 415, in select\n",
      "    fd_event_list = self._selector.poll(timeout)\n",
      "                    ^^^^^^^^^^^^^^^^^^^^^^^^^^^^\n",
      "KeyboardInterrupt: \n"
     ]
    },
    {
     "ename": "TypeError",
     "evalue": "Invalid shape (289,) for image data",
     "output_type": "error",
     "traceback": [
      "\u001b[31m---------------------------------------------------------------------------\u001b[39m",
      "\u001b[31mTypeError\u001b[39m                                 Traceback (most recent call last)",
      "\u001b[36mCell\u001b[39m\u001b[36m \u001b[39m\u001b[32mIn[75]\u001b[39m\u001b[32m, line 2\u001b[39m\n\u001b[32m      1\u001b[39m \u001b[38;5;28;01mimport\u001b[39;00m\u001b[38;5;250m \u001b[39m\u001b[34;01mmatplotlib\u001b[39;00m\u001b[34;01m.\u001b[39;00m\u001b[34;01mpyplot\u001b[39;00m\u001b[38;5;250m \u001b[39m\u001b[38;5;28;01mas\u001b[39;00m\u001b[38;5;250m \u001b[39m\u001b[34;01mplt\u001b[39;00m\n\u001b[32m----> \u001b[39m\u001b[32m2\u001b[39m \u001b[43mplt\u001b[49m\u001b[43m.\u001b[49m\u001b[43mimshow\u001b[49m\u001b[43m(\u001b[49m\u001b[43mhistory\u001b[49m\u001b[43m)\u001b[49m\n",
      "\u001b[36mFile \u001b[39m\u001b[32m~/conda/envs/masketeers/lib/python3.11/site-packages/matplotlib/pyplot.py:3601\u001b[39m, in \u001b[36mimshow\u001b[39m\u001b[34m(X, cmap, norm, aspect, interpolation, alpha, vmin, vmax, colorizer, origin, extent, interpolation_stage, filternorm, filterrad, resample, url, data, **kwargs)\u001b[39m\n\u001b[32m   3579\u001b[39m \u001b[38;5;129m@_copy_docstring_and_deprecators\u001b[39m(Axes.imshow)\n\u001b[32m   3580\u001b[39m \u001b[38;5;28;01mdef\u001b[39;00m\u001b[38;5;250m \u001b[39m\u001b[34mimshow\u001b[39m(\n\u001b[32m   3581\u001b[39m     X: ArrayLike | PIL.Image.Image,\n\u001b[32m   (...)\u001b[39m\u001b[32m   3599\u001b[39m     **kwargs,\n\u001b[32m   3600\u001b[39m ) -> AxesImage:\n\u001b[32m-> \u001b[39m\u001b[32m3601\u001b[39m     __ret = \u001b[43mgca\u001b[49m\u001b[43m(\u001b[49m\u001b[43m)\u001b[49m\u001b[43m.\u001b[49m\u001b[43mimshow\u001b[49m\u001b[43m(\u001b[49m\n\u001b[32m   3602\u001b[39m \u001b[43m        \u001b[49m\u001b[43mX\u001b[49m\u001b[43m,\u001b[49m\n\u001b[32m   3603\u001b[39m \u001b[43m        \u001b[49m\u001b[43mcmap\u001b[49m\u001b[43m=\u001b[49m\u001b[43mcmap\u001b[49m\u001b[43m,\u001b[49m\n\u001b[32m   3604\u001b[39m \u001b[43m        \u001b[49m\u001b[43mnorm\u001b[49m\u001b[43m=\u001b[49m\u001b[43mnorm\u001b[49m\u001b[43m,\u001b[49m\n\u001b[32m   3605\u001b[39m \u001b[43m        \u001b[49m\u001b[43maspect\u001b[49m\u001b[43m=\u001b[49m\u001b[43maspect\u001b[49m\u001b[43m,\u001b[49m\n\u001b[32m   3606\u001b[39m \u001b[43m        \u001b[49m\u001b[43minterpolation\u001b[49m\u001b[43m=\u001b[49m\u001b[43minterpolation\u001b[49m\u001b[43m,\u001b[49m\n\u001b[32m   3607\u001b[39m \u001b[43m        \u001b[49m\u001b[43malpha\u001b[49m\u001b[43m=\u001b[49m\u001b[43malpha\u001b[49m\u001b[43m,\u001b[49m\n\u001b[32m   3608\u001b[39m \u001b[43m        \u001b[49m\u001b[43mvmin\u001b[49m\u001b[43m=\u001b[49m\u001b[43mvmin\u001b[49m\u001b[43m,\u001b[49m\n\u001b[32m   3609\u001b[39m \u001b[43m        \u001b[49m\u001b[43mvmax\u001b[49m\u001b[43m=\u001b[49m\u001b[43mvmax\u001b[49m\u001b[43m,\u001b[49m\n\u001b[32m   3610\u001b[39m \u001b[43m        \u001b[49m\u001b[43mcolorizer\u001b[49m\u001b[43m=\u001b[49m\u001b[43mcolorizer\u001b[49m\u001b[43m,\u001b[49m\n\u001b[32m   3611\u001b[39m \u001b[43m        \u001b[49m\u001b[43morigin\u001b[49m\u001b[43m=\u001b[49m\u001b[43morigin\u001b[49m\u001b[43m,\u001b[49m\n\u001b[32m   3612\u001b[39m \u001b[43m        \u001b[49m\u001b[43mextent\u001b[49m\u001b[43m=\u001b[49m\u001b[43mextent\u001b[49m\u001b[43m,\u001b[49m\n\u001b[32m   3613\u001b[39m \u001b[43m        \u001b[49m\u001b[43minterpolation_stage\u001b[49m\u001b[43m=\u001b[49m\u001b[43minterpolation_stage\u001b[49m\u001b[43m,\u001b[49m\n\u001b[32m   3614\u001b[39m \u001b[43m        \u001b[49m\u001b[43mfilternorm\u001b[49m\u001b[43m=\u001b[49m\u001b[43mfilternorm\u001b[49m\u001b[43m,\u001b[49m\n\u001b[32m   3615\u001b[39m \u001b[43m        \u001b[49m\u001b[43mfilterrad\u001b[49m\u001b[43m=\u001b[49m\u001b[43mfilterrad\u001b[49m\u001b[43m,\u001b[49m\n\u001b[32m   3616\u001b[39m \u001b[43m        \u001b[49m\u001b[43mresample\u001b[49m\u001b[43m=\u001b[49m\u001b[43mresample\u001b[49m\u001b[43m,\u001b[49m\n\u001b[32m   3617\u001b[39m \u001b[43m        \u001b[49m\u001b[43murl\u001b[49m\u001b[43m=\u001b[49m\u001b[43murl\u001b[49m\u001b[43m,\u001b[49m\n\u001b[32m   3618\u001b[39m \u001b[43m        \u001b[49m\u001b[43m*\u001b[49m\u001b[43m*\u001b[49m\u001b[43m(\u001b[49m\u001b[43m{\u001b[49m\u001b[33;43m\"\u001b[39;49m\u001b[33;43mdata\u001b[39;49m\u001b[33;43m\"\u001b[39;49m\u001b[43m:\u001b[49m\u001b[43m \u001b[49m\u001b[43mdata\u001b[49m\u001b[43m}\u001b[49m\u001b[43m \u001b[49m\u001b[38;5;28;43;01mif\u001b[39;49;00m\u001b[43m \u001b[49m\u001b[43mdata\u001b[49m\u001b[43m \u001b[49m\u001b[38;5;129;43;01mis\u001b[39;49;00m\u001b[43m \u001b[49m\u001b[38;5;129;43;01mnot\u001b[39;49;00m\u001b[43m \u001b[49m\u001b[38;5;28;43;01mNone\u001b[39;49;00m\u001b[43m \u001b[49m\u001b[38;5;28;43;01melse\u001b[39;49;00m\u001b[43m \u001b[49m\u001b[43m{\u001b[49m\u001b[43m}\u001b[49m\u001b[43m)\u001b[49m\u001b[43m,\u001b[49m\n\u001b[32m   3619\u001b[39m \u001b[43m        \u001b[49m\u001b[43m*\u001b[49m\u001b[43m*\u001b[49m\u001b[43mkwargs\u001b[49m\u001b[43m,\u001b[49m\n\u001b[32m   3620\u001b[39m \u001b[43m    \u001b[49m\u001b[43m)\u001b[49m\n\u001b[32m   3621\u001b[39m     sci(__ret)\n\u001b[32m   3622\u001b[39m     \u001b[38;5;28;01mreturn\u001b[39;00m __ret\n",
      "\u001b[36mFile \u001b[39m\u001b[32m~/conda/envs/masketeers/lib/python3.11/site-packages/matplotlib/__init__.py:1524\u001b[39m, in \u001b[36m_preprocess_data.<locals>.inner\u001b[39m\u001b[34m(ax, data, *args, **kwargs)\u001b[39m\n\u001b[32m   1521\u001b[39m \u001b[38;5;129m@functools\u001b[39m.wraps(func)\n\u001b[32m   1522\u001b[39m \u001b[38;5;28;01mdef\u001b[39;00m\u001b[38;5;250m \u001b[39m\u001b[34minner\u001b[39m(ax, *args, data=\u001b[38;5;28;01mNone\u001b[39;00m, **kwargs):\n\u001b[32m   1523\u001b[39m     \u001b[38;5;28;01mif\u001b[39;00m data \u001b[38;5;129;01mis\u001b[39;00m \u001b[38;5;28;01mNone\u001b[39;00m:\n\u001b[32m-> \u001b[39m\u001b[32m1524\u001b[39m         \u001b[38;5;28;01mreturn\u001b[39;00m \u001b[43mfunc\u001b[49m\u001b[43m(\u001b[49m\n\u001b[32m   1525\u001b[39m \u001b[43m            \u001b[49m\u001b[43max\u001b[49m\u001b[43m,\u001b[49m\n\u001b[32m   1526\u001b[39m \u001b[43m            \u001b[49m\u001b[43m*\u001b[49m\u001b[38;5;28;43mmap\u001b[39;49m\u001b[43m(\u001b[49m\u001b[43mcbook\u001b[49m\u001b[43m.\u001b[49m\u001b[43msanitize_sequence\u001b[49m\u001b[43m,\u001b[49m\u001b[43m \u001b[49m\u001b[43margs\u001b[49m\u001b[43m)\u001b[49m\u001b[43m,\u001b[49m\n\u001b[32m   1527\u001b[39m \u001b[43m            \u001b[49m\u001b[43m*\u001b[49m\u001b[43m*\u001b[49m\u001b[43m{\u001b[49m\u001b[43mk\u001b[49m\u001b[43m:\u001b[49m\u001b[43m \u001b[49m\u001b[43mcbook\u001b[49m\u001b[43m.\u001b[49m\u001b[43msanitize_sequence\u001b[49m\u001b[43m(\u001b[49m\u001b[43mv\u001b[49m\u001b[43m)\u001b[49m\u001b[43m \u001b[49m\u001b[38;5;28;43;01mfor\u001b[39;49;00m\u001b[43m \u001b[49m\u001b[43mk\u001b[49m\u001b[43m,\u001b[49m\u001b[43m \u001b[49m\u001b[43mv\u001b[49m\u001b[43m \u001b[49m\u001b[38;5;129;43;01min\u001b[39;49;00m\u001b[43m \u001b[49m\u001b[43mkwargs\u001b[49m\u001b[43m.\u001b[49m\u001b[43mitems\u001b[49m\u001b[43m(\u001b[49m\u001b[43m)\u001b[49m\u001b[43m}\u001b[49m\u001b[43m)\u001b[49m\n\u001b[32m   1529\u001b[39m     bound = new_sig.bind(ax, *args, **kwargs)\n\u001b[32m   1530\u001b[39m     auto_label = (bound.arguments.get(label_namer)\n\u001b[32m   1531\u001b[39m                   \u001b[38;5;129;01mor\u001b[39;00m bound.kwargs.get(label_namer))\n",
      "\u001b[36mFile \u001b[39m\u001b[32m~/conda/envs/masketeers/lib/python3.11/site-packages/matplotlib/axes/_axes.py:5982\u001b[39m, in \u001b[36mAxes.imshow\u001b[39m\u001b[34m(self, X, cmap, norm, aspect, interpolation, alpha, vmin, vmax, colorizer, origin, extent, interpolation_stage, filternorm, filterrad, resample, url, **kwargs)\u001b[39m\n\u001b[32m   5979\u001b[39m \u001b[38;5;28;01mif\u001b[39;00m aspect \u001b[38;5;129;01mis\u001b[39;00m \u001b[38;5;129;01mnot\u001b[39;00m \u001b[38;5;28;01mNone\u001b[39;00m:\n\u001b[32m   5980\u001b[39m     \u001b[38;5;28mself\u001b[39m.set_aspect(aspect)\n\u001b[32m-> \u001b[39m\u001b[32m5982\u001b[39m \u001b[43mim\u001b[49m\u001b[43m.\u001b[49m\u001b[43mset_data\u001b[49m\u001b[43m(\u001b[49m\u001b[43mX\u001b[49m\u001b[43m)\u001b[49m\n\u001b[32m   5983\u001b[39m im.set_alpha(alpha)\n\u001b[32m   5984\u001b[39m \u001b[38;5;28;01mif\u001b[39;00m im.get_clip_path() \u001b[38;5;129;01mis\u001b[39;00m \u001b[38;5;28;01mNone\u001b[39;00m:\n\u001b[32m   5985\u001b[39m     \u001b[38;5;66;03m# image does not already have clipping set, clip to Axes patch\u001b[39;00m\n",
      "\u001b[36mFile \u001b[39m\u001b[32m~/conda/envs/masketeers/lib/python3.11/site-packages/matplotlib/image.py:685\u001b[39m, in \u001b[36m_ImageBase.set_data\u001b[39m\u001b[34m(self, A)\u001b[39m\n\u001b[32m    683\u001b[39m \u001b[38;5;28;01mif\u001b[39;00m \u001b[38;5;28misinstance\u001b[39m(A, PIL.Image.Image):\n\u001b[32m    684\u001b[39m     A = pil_to_array(A)  \u001b[38;5;66;03m# Needed e.g. to apply png palette.\u001b[39;00m\n\u001b[32m--> \u001b[39m\u001b[32m685\u001b[39m \u001b[38;5;28mself\u001b[39m._A = \u001b[38;5;28;43mself\u001b[39;49m\u001b[43m.\u001b[49m\u001b[43m_normalize_image_array\u001b[49m\u001b[43m(\u001b[49m\u001b[43mA\u001b[49m\u001b[43m)\u001b[49m\n\u001b[32m    686\u001b[39m \u001b[38;5;28mself\u001b[39m._imcache = \u001b[38;5;28;01mNone\u001b[39;00m\n\u001b[32m    687\u001b[39m \u001b[38;5;28mself\u001b[39m.stale = \u001b[38;5;28;01mTrue\u001b[39;00m\n",
      "\u001b[36mFile \u001b[39m\u001b[32m~/conda/envs/masketeers/lib/python3.11/site-packages/matplotlib/image.py:653\u001b[39m, in \u001b[36m_ImageBase._normalize_image_array\u001b[39m\u001b[34m(A)\u001b[39m\n\u001b[32m    651\u001b[39m     A = A.squeeze(-\u001b[32m1\u001b[39m)  \u001b[38;5;66;03m# If just (M, N, 1), assume scalar and apply colormap.\u001b[39;00m\n\u001b[32m    652\u001b[39m \u001b[38;5;28;01mif\u001b[39;00m \u001b[38;5;129;01mnot\u001b[39;00m (A.ndim == \u001b[32m2\u001b[39m \u001b[38;5;129;01mor\u001b[39;00m A.ndim == \u001b[32m3\u001b[39m \u001b[38;5;129;01mand\u001b[39;00m A.shape[-\u001b[32m1\u001b[39m] \u001b[38;5;129;01min\u001b[39;00m [\u001b[32m3\u001b[39m, \u001b[32m4\u001b[39m]):\n\u001b[32m--> \u001b[39m\u001b[32m653\u001b[39m     \u001b[38;5;28;01mraise\u001b[39;00m \u001b[38;5;167;01mTypeError\u001b[39;00m(\u001b[33mf\u001b[39m\u001b[33m\"\u001b[39m\u001b[33mInvalid shape \u001b[39m\u001b[38;5;132;01m{\u001b[39;00mA.shape\u001b[38;5;132;01m}\u001b[39;00m\u001b[33m for image data\u001b[39m\u001b[33m\"\u001b[39m)\n\u001b[32m    654\u001b[39m \u001b[38;5;28;01mif\u001b[39;00m A.ndim == \u001b[32m3\u001b[39m:\n\u001b[32m    655\u001b[39m     \u001b[38;5;66;03m# If the input data has values outside the valid range (after\u001b[39;00m\n\u001b[32m    656\u001b[39m     \u001b[38;5;66;03m# normalisation), we issue a warning and then clip X to the bounds\u001b[39;00m\n\u001b[32m    657\u001b[39m     \u001b[38;5;66;03m# - otherwise casting wraps extreme values, hiding outliers and\u001b[39;00m\n\u001b[32m    658\u001b[39m     \u001b[38;5;66;03m# making reliable interpretation impossible.\u001b[39;00m\n\u001b[32m    659\u001b[39m     high = \u001b[32m255\u001b[39m \u001b[38;5;28;01mif\u001b[39;00m np.issubdtype(A.dtype, np.integer) \u001b[38;5;28;01melse\u001b[39;00m \u001b[32m1\u001b[39m\n",
      "\u001b[31mTypeError\u001b[39m: Invalid shape (289,) for image data"
     ]
    },
    {
     "data": {
      "image/png": "[encoded data removed]",
      "text/plain": [
       "<Figure size 640x480 with 1 Axes>"
      ]
     },
     "metadata": {},
     "output_type": "display_data"
    }
   ],
   "source": [
    "#load weights to run predictions\n",
    "weights = torch.load(\"/mnt/efs/aimbl_2025/student_data/S-DD/nucleoli_restnet_trained.pth\")\n",
    "model.load_state_dict(weights[\"nucleoli_resnet\"])"
   ]
  }
 ],
 "metadata": {
  "kernelspec": {
   "display_name": "masketeers",
   "language": "python",
   "name": "python3"
  },
  "language_info": {
   "codemirror_mode": {
    "name": "ipython",
    "version": 3
   },
   "file_extension": ".py",
   "mimetype": "text/x-python",
   "name": "python",
   "nbconvert_exporter": "python",
   "pygments_lexer": "ipython3",
   "version": "3.11.13"
  }
 },
 "nbformat": 4,
 "nbformat_minor": 5
}
