{
 "cells": [
  {
   "cell_type": "code",
   "execution_count": 1,
   "id": "390838db",
   "metadata": {},
   "outputs": [],
   "source": [
    "# from __future__ import print_function, unicode_literals, absolute_import, division\n",
    "# import sys\n",
    "import numpy as np\n",
    "# import matplotlib\n",
    "# matplotlib.rcParams[\"image.interpolation\"] = 'none'\n",
    "# import matplotlib.pyplot as plt\n",
    "# %matplotlib inline\n",
    "# %config InlineBackend.figure_format = 'retina'\n",
    "\n",
    "from glob import glob\n",
    "from tifffile import imread\n",
    "from csbdeep.utils import Path, normalize\n",
    "# from csbdeep.io import save_tiff_imagej_compatible\n",
    "\n",
    "# from stardist import random_label_cmap, _draw_polygons, export_imagej_rois\n",
    "# from stardist.models import StarDist2D\n",
    "\n",
    "np.random.seed(6)\n",
    "# lbl_cmap = random_label_cmap()"
   ]
  },
  {
   "cell_type": "code",
   "execution_count": 2,
   "id": "559c03da",
   "metadata": {},
   "outputs": [],
   "source": [
    "#X = sorted(glob('data/dsb2018/test/images/*.tif'))\n",
    "X = sorted(glob('/mnt/efs/aimbl_2025/student_data/S-LS/raw_bacteria/*.tif'))\n",
    "X = list(map(imread,X))\n",
    "\n",
    "n_channel = 1 if X[0].ndim == 2 else X[0].shape[-1]\n",
    "axis_norm = (0,1)   # normalize channels independently\n",
    "# axis_norm = (0,1,2) # normalize channels jointly\n",
    "if n_channel > 1:\n",
    "    print(\"Normalizing image channels %s.\" % ('jointly' if axis_norm is None or 2 in axis_norm else 'independently'))"
   ]
  },
  {
   "cell_type": "code",
   "execution_count": 3,
   "id": "afdfad3b",
   "metadata": {},
   "outputs": [
    {
     "name": "stderr",
     "output_type": "stream",
     "text": [
      "bioimageio_utils.py (2): pkg_resources is deprecated as an API. See https://setuptools.pypa.io/en/latest/pkg_resources.html. The pkg_resources package is slated for removal as early as 2025-11-30. Refrain from using this package or pin to Setuptools<81.\n",
      "2025-09-03 21:03:34.341914: I tensorflow/core/util/port.cc:153] oneDNN custom operations are on. You may see slightly different numerical results due to floating-point round-off errors from different computation orders. To turn them off, set the environment variable `TF_ENABLE_ONEDNN_OPTS=0`.\n",
      "2025-09-03 21:03:34.454945: I tensorflow/core/platform/cpu_feature_guard.cc:210] This TensorFlow binary is optimized to use available CPU instructions in performance-critical operations.\n",
      "To enable the following instructions: AVX2 AVX512F AVX512_VNNI FMA, in other operations, rebuild TensorFlow with the appropriate compiler flags.\n",
      "2025-09-03 21:03:37.129317: I tensorflow/core/util/port.cc:153] oneDNN custom operations are on. You may see slightly different numerical results due to floating-point round-off errors from different computation orders. To turn them off, set the environment variable `TF_ENABLE_ONEDNN_OPTS=0`.\n",
      "WARNING: All log messages before absl::InitializeLog() is called are written to STDERR\n",
      "W0000 00:00:1756933419.404106  620493 gpu_device.cc:2342] Cannot dlopen some GPU libraries. Please make sure the missing libraries mentioned above are installed properly if you would like to use GPU. Follow the guide at https://www.tensorflow.org/install/gpu for how to download and setup the required libraries for your platform.\n",
      "Skipping registering GPU devices...\n"
     ]
    },
    {
     "name": "stdout",
     "output_type": "stream",
     "text": [
      "Loading network weights from 'weights_best.h5'.\n",
      "Loading thresholds from 'thresholds.json'.\n",
      "Using default values: prob_thresh=0.479071, nms_thresh=0.3.\n"
     ]
    }
   ],
   "source": [
    "from stardist.models import StarDist2D\n",
    "\n",
    "ON_Stardist_model= StarDist2D(None, \"Stardist_training_model\", \"/home/S-LS/AI-MBL-2025/masketeers/\")"
   ]
  },
  {
   "cell_type": "code",
   "execution_count": null,
   "id": "79761405",
   "metadata": {},
   "outputs": [
    {
     "ename": "AttributeError",
     "evalue": "'list' object has no attribute 'astype'",
     "output_type": "error",
     "traceback": [
      "\u001b[31m---------------------------------------------------------------------------\u001b[39m",
      "\u001b[31mAttributeError\u001b[39m                            Traceback (most recent call last)",
      "\u001b[36mCell\u001b[39m\u001b[36m \u001b[39m\u001b[32mIn[4]\u001b[39m\u001b[32m, line 1\u001b[39m\n\u001b[32m----> \u001b[39m\u001b[32m1\u001b[39m img = \u001b[43mnormalize\u001b[49m\u001b[43m(\u001b[49m\u001b[43mX\u001b[49m\u001b[43m,\u001b[49m\u001b[43m \u001b[49m\u001b[32;43m1\u001b[39;49m\u001b[43m,\u001b[49m\u001b[32;43m99.8\u001b[39;49m\u001b[43m,\u001b[49m\u001b[43m \u001b[49m\u001b[43maxis\u001b[49m\u001b[43m=\u001b[49m\u001b[43maxis_norm\u001b[49m\u001b[43m)\u001b[49m\n\u001b[32m      2\u001b[39m labels, details = ON_Stardist_model.predict_instances(img)\n",
      "\u001b[36mFile \u001b[39m\u001b[32m~/conda/envs/stardist_env/lib/python3.12/site-packages/csbdeep/utils/utils.py:54\u001b[39m, in \u001b[36mnormalize\u001b[39m\u001b[34m(x, pmin, pmax, axis, clip, eps, dtype)\u001b[39m\n\u001b[32m     52\u001b[39m mi = np.percentile(x,pmin,axis=axis,keepdims=\u001b[38;5;28;01mTrue\u001b[39;00m)\n\u001b[32m     53\u001b[39m ma = np.percentile(x,pmax,axis=axis,keepdims=\u001b[38;5;28;01mTrue\u001b[39;00m)\n\u001b[32m---> \u001b[39m\u001b[32m54\u001b[39m \u001b[38;5;28;01mreturn\u001b[39;00m \u001b[43mnormalize_mi_ma\u001b[49m\u001b[43m(\u001b[49m\u001b[43mx\u001b[49m\u001b[43m,\u001b[49m\u001b[43m \u001b[49m\u001b[43mmi\u001b[49m\u001b[43m,\u001b[49m\u001b[43m \u001b[49m\u001b[43mma\u001b[49m\u001b[43m,\u001b[49m\u001b[43m \u001b[49m\u001b[43mclip\u001b[49m\u001b[43m=\u001b[49m\u001b[43mclip\u001b[49m\u001b[43m,\u001b[49m\u001b[43m \u001b[49m\u001b[43meps\u001b[49m\u001b[43m=\u001b[49m\u001b[43meps\u001b[49m\u001b[43m,\u001b[49m\u001b[43m \u001b[49m\u001b[43mdtype\u001b[49m\u001b[43m=\u001b[49m\u001b[43mdtype\u001b[49m\u001b[43m)\u001b[49m\n",
      "\u001b[36mFile \u001b[39m\u001b[32m~/conda/envs/stardist_env/lib/python3.12/site-packages/csbdeep/utils/utils.py:59\u001b[39m, in \u001b[36mnormalize_mi_ma\u001b[39m\u001b[34m(x, mi, ma, clip, eps, dtype)\u001b[39m\n\u001b[32m     57\u001b[39m \u001b[38;5;28;01mdef\u001b[39;00m\u001b[38;5;250m \u001b[39m\u001b[34mnormalize_mi_ma\u001b[39m(x, mi, ma, clip=\u001b[38;5;28;01mFalse\u001b[39;00m, eps=\u001b[32m1e-20\u001b[39m, dtype=np.float32):\n\u001b[32m     58\u001b[39m     \u001b[38;5;28;01mif\u001b[39;00m dtype \u001b[38;5;129;01mis\u001b[39;00m \u001b[38;5;129;01mnot\u001b[39;00m \u001b[38;5;28;01mNone\u001b[39;00m:\n\u001b[32m---> \u001b[39m\u001b[32m59\u001b[39m         x   = \u001b[43mx\u001b[49m\u001b[43m.\u001b[49m\u001b[43mastype\u001b[49m(dtype,copy=\u001b[38;5;28;01mFalse\u001b[39;00m)\n\u001b[32m     60\u001b[39m         mi  = dtype(mi) \u001b[38;5;28;01mif\u001b[39;00m np.isscalar(mi) \u001b[38;5;28;01melse\u001b[39;00m mi.astype(dtype,copy=\u001b[38;5;28;01mFalse\u001b[39;00m)\n\u001b[32m     61\u001b[39m         ma  = dtype(ma) \u001b[38;5;28;01mif\u001b[39;00m np.isscalar(ma) \u001b[38;5;28;01melse\u001b[39;00m ma.astype(dtype,copy=\u001b[38;5;28;01mFalse\u001b[39;00m)\n",
      "\u001b[31mAttributeError\u001b[39m: 'list' object has no attribute 'astype'"
     ]
    }
   ],
   "source": [
    "from skimage import io\n",
    "\n",
    "outdir='/mnt/efs/aimbl_2025/student_data/S-LS/stardist_masks.zarr'\n",
    "\n",
    "masks_ext = \".png\" if image_ext == \".png\" else \".tif\"\n",
    "for i in len(X):\n",
    "    img= X[i]\n",
    "    norm_img = normalize(img, 1,99.8, axis=axis_norm)\n",
    "    labels, details = ON_Stardist_model.predict_instances(norm_img)\n",
    "    io.imsave('labels.tif', labels)\n",
    "    io.imsave(outdir / (f.stem + \"_masks\" + masks_ext), labels)\n",
    "\n",
    "\n",
    "# img = normalize(X, 1,99.8, axis=axis_norm)\n",
    "# labels, details = ON_Stardist_model.predict_instances(img)"
   ]
  },
  {
   "cell_type": "code",
   "execution_count": null,
   "id": "fb55fbda",
   "metadata": {},
   "outputs": [],
   "source": [
    "import zarr\n",
    "\n",
    "z= zarr.create_array(store=\"/mnt/efs/aimbl_2025/student_data/S-LS/stardist_masks.zarr\",\n",
    "   shape=(2208, 2752),\n",
    "   chunks=(552, 688),\n",
    "   dtype=\"int32\"\n",
    ")\n",
    "\n",
    "z[:, :] = labels"
   ]
  },
  {
   "cell_type": "code",
   "execution_count": 1,
   "id": "8ff7bf98",
   "metadata": {},
   "outputs": [
    {
     "name": "stderr",
     "output_type": "stream",
     "text": [
      "bioimageio_utils.py (2): pkg_resources is deprecated as an API. See https://setuptools.pypa.io/en/latest/pkg_resources.html. The pkg_resources package is slated for removal as early as 2025-11-30. Refrain from using this package or pin to Setuptools<81.\n",
      "2025-09-04 00:04:50.376835: I tensorflow/core/util/port.cc:153] oneDNN custom operations are on. You may see slightly different numerical results due to floating-point round-off errors from different computation orders. To turn them off, set the environment variable `TF_ENABLE_ONEDNN_OPTS=0`.\n",
      "2025-09-04 00:04:51.992367: I tensorflow/core/platform/cpu_feature_guard.cc:210] This TensorFlow binary is optimized to use available CPU instructions in performance-critical operations.\n",
      "To enable the following instructions: AVX2 AVX512F AVX512_VNNI FMA, in other operations, rebuild TensorFlow with the appropriate compiler flags.\n",
      "2025-09-04 00:04:57.359371: I tensorflow/core/util/port.cc:153] oneDNN custom operations are on. You may see slightly different numerical results due to floating-point round-off errors from different computation orders. To turn them off, set the environment variable `TF_ENABLE_ONEDNN_OPTS=0`.\n",
      "WARNING: All log messages before absl::InitializeLog() is called are written to STDERR\n",
      "W0000 00:00:1756944302.178556  656877 gpu_device.cc:2342] Cannot dlopen some GPU libraries. Please make sure the missing libraries mentioned above are installed properly if you would like to use GPU. Follow the guide at https://www.tensorflow.org/install/gpu for how to download and setup the required libraries for your platform.\n",
      "Skipping registering GPU devices...\n"
     ]
    },
    {
     "name": "stdout",
     "output_type": "stream",
     "text": [
      "Loading network weights from 'weights_best.h5'.\n",
      "Loading thresholds from 'thresholds.json'.\n",
      "Using default values: prob_thresh=0.479071, nms_thresh=0.3.\n"
     ]
    },
    {
     "name": "stderr",
     "output_type": "stream",
     "text": [
      "utils.py (328): /mnt/efs/aimbl_2025/student_data/S-LS/stardist_masks_tif/img_001_bacteria_masks.tif is a low contrast image\n",
      "utils.py (328): /mnt/efs/aimbl_2025/student_data/S-LS/stardist_masks_tif/img_002_bacteria_masks.tif is a low contrast image\n",
      "utils.py (328): /mnt/efs/aimbl_2025/student_data/S-LS/stardist_masks_tif/img_003_bacteria_masks.tif is a low contrast image\n",
      "utils.py (328): /mnt/efs/aimbl_2025/student_data/S-LS/stardist_masks_tif/img_004_bacteria_masks.tif is a low contrast image\n",
      "utils.py (328): /mnt/efs/aimbl_2025/student_data/S-LS/stardist_masks_tif/img_005_bacteria_masks.tif is a low contrast image\n",
      "utils.py (328): /mnt/efs/aimbl_2025/student_data/S-LS/stardist_masks_tif/img_006_bacteria_masks.tif is a low contrast image\n",
      "utils.py (328): /mnt/efs/aimbl_2025/student_data/S-LS/stardist_masks_tif/img_007_bacteria_masks.tif is a low contrast image\n",
      "utils.py (328): /mnt/efs/aimbl_2025/student_data/S-LS/stardist_masks_tif/img_008_bacteria_masks.tif is a low contrast image\n",
      "utils.py (328): /mnt/efs/aimbl_2025/student_data/S-LS/stardist_masks_tif/img_009_bacteria_masks.tif is a low contrast image\n",
      "utils.py (328): /mnt/efs/aimbl_2025/student_data/S-LS/stardist_masks_tif/img_010_bacteria_masks.tif is a low contrast image\n",
      "utils.py (328): /mnt/efs/aimbl_2025/student_data/S-LS/stardist_masks_tif/img_011_bacteria_masks.tif is a low contrast image\n",
      "utils.py (328): /mnt/efs/aimbl_2025/student_data/S-LS/stardist_masks_tif/img_012_bacteria_masks.tif is a low contrast image\n",
      "utils.py (328): /mnt/efs/aimbl_2025/student_data/S-LS/stardist_masks_tif/img_013_bacteria_masks.tif is a low contrast image\n",
      "utils.py (328): /mnt/efs/aimbl_2025/student_data/S-LS/stardist_masks_tif/img_014_bacteria_masks.tif is a low contrast image\n",
      "utils.py (328): /mnt/efs/aimbl_2025/student_data/S-LS/stardist_masks_tif/img_015_bacteria_masks.tif is a low contrast image\n",
      "utils.py (328): /mnt/efs/aimbl_2025/student_data/S-LS/stardist_masks_tif/img_016_bacteria_masks.tif is a low contrast image\n",
      "utils.py (328): /mnt/efs/aimbl_2025/student_data/S-LS/stardist_masks_tif/img_017_bacteria_masks.tif is a low contrast image\n",
      "utils.py (328): /mnt/efs/aimbl_2025/student_data/S-LS/stardist_masks_tif/img_018_bacteria_masks.tif is a low contrast image\n",
      "utils.py (328): /mnt/efs/aimbl_2025/student_data/S-LS/stardist_masks_tif/img_019_bacteria_masks.tif is a low contrast image\n",
      "utils.py (328): /mnt/efs/aimbl_2025/student_data/S-LS/stardist_masks_tif/img_020_bacteria_masks.tif is a low contrast image\n",
      "utils.py (328): /mnt/efs/aimbl_2025/student_data/S-LS/stardist_masks_tif/img_021_bacteria_masks.tif is a low contrast image\n",
      "utils.py (328): /mnt/efs/aimbl_2025/student_data/S-LS/stardist_masks_tif/img_022_bacteria_masks.tif is a low contrast image\n",
      "utils.py (328): /mnt/efs/aimbl_2025/student_data/S-LS/stardist_masks_tif/img_023_bacteria_masks.tif is a low contrast image\n",
      "utils.py (328): /mnt/efs/aimbl_2025/student_data/S-LS/stardist_masks_tif/img_024_bacteria_masks.tif is a low contrast image\n",
      "utils.py (328): /mnt/efs/aimbl_2025/student_data/S-LS/stardist_masks_tif/img_025_bacteria_masks.tif is a low contrast image\n",
      "utils.py (328): /mnt/efs/aimbl_2025/student_data/S-LS/stardist_masks_tif/img_026_bacteria_masks.tif is a low contrast image\n",
      "utils.py (328): /mnt/efs/aimbl_2025/student_data/S-LS/stardist_masks_tif/img_027_bacteria_masks.tif is a low contrast image\n",
      "utils.py (328): /mnt/efs/aimbl_2025/student_data/S-LS/stardist_masks_tif/img_028_bacteria_masks.tif is a low contrast image\n",
      "utils.py (328): /mnt/efs/aimbl_2025/student_data/S-LS/stardist_masks_tif/img_029_bacteria_masks.tif is a low contrast image\n",
      "utils.py (328): /mnt/efs/aimbl_2025/student_data/S-LS/stardist_masks_tif/img_030_bacteria_masks.tif is a low contrast image\n",
      "utils.py (328): /mnt/efs/aimbl_2025/student_data/S-LS/stardist_masks_tif/img_031_bacteria_masks.tif is a low contrast image\n",
      "utils.py (328): /mnt/efs/aimbl_2025/student_data/S-LS/stardist_masks_tif/img_032_bacteria_masks.tif is a low contrast image\n",
      "utils.py (328): /mnt/efs/aimbl_2025/student_data/S-LS/stardist_masks_tif/img_033_bacteria_masks.tif is a low contrast image\n",
      "utils.py (328): /mnt/efs/aimbl_2025/student_data/S-LS/stardist_masks_tif/img_034_bacteria_masks.tif is a low contrast image\n",
      "utils.py (328): /mnt/efs/aimbl_2025/student_data/S-LS/stardist_masks_tif/img_035_bacteria_masks.tif is a low contrast image\n",
      "utils.py (328): /mnt/efs/aimbl_2025/student_data/S-LS/stardist_masks_tif/img_036_bacteria_masks.tif is a low contrast image\n",
      "utils.py (328): /mnt/efs/aimbl_2025/student_data/S-LS/stardist_masks_tif/img_037_bacteria_masks.tif is a low contrast image\n",
      "utils.py (328): /mnt/efs/aimbl_2025/student_data/S-LS/stardist_masks_tif/img_038_bacteria_masks.tif is a low contrast image\n",
      "utils.py (328): /mnt/efs/aimbl_2025/student_data/S-LS/stardist_masks_tif/img_039_bacteria_masks.tif is a low contrast image\n",
      "utils.py (328): /mnt/efs/aimbl_2025/student_data/S-LS/stardist_masks_tif/img_040_bacteria_masks.tif is a low contrast image\n",
      "utils.py (328): /mnt/efs/aimbl_2025/student_data/S-LS/stardist_masks_tif/img_041_bacteria_masks.tif is a low contrast image\n",
      "utils.py (328): /mnt/efs/aimbl_2025/student_data/S-LS/stardist_masks_tif/img_042_bacteria_masks.tif is a low contrast image\n",
      "utils.py (328): /mnt/efs/aimbl_2025/student_data/S-LS/stardist_masks_tif/img_043_bacteria_masks.tif is a low contrast image\n",
      "utils.py (328): /mnt/efs/aimbl_2025/student_data/S-LS/stardist_masks_tif/img_044_bacteria_masks.tif is a low contrast image\n",
      "utils.py (328): /mnt/efs/aimbl_2025/student_data/S-LS/stardist_masks_tif/img_045_bacteria_masks.tif is a low contrast image\n",
      "utils.py (328): /mnt/efs/aimbl_2025/student_data/S-LS/stardist_masks_tif/img_046_bacteria_masks.tif is a low contrast image\n",
      "utils.py (328): /mnt/efs/aimbl_2025/student_data/S-LS/stardist_masks_tif/img_047_bacteria_masks.tif is a low contrast image\n",
      "utils.py (328): /mnt/efs/aimbl_2025/student_data/S-LS/stardist_masks_tif/img_048_bacteria_masks.tif is a low contrast image\n",
      "utils.py (328): /mnt/efs/aimbl_2025/student_data/S-LS/stardist_masks_tif/img_049_bacteria_masks.tif is a low contrast image\n",
      "utils.py (328): /mnt/efs/aimbl_2025/student_data/S-LS/stardist_masks_tif/img_050_bacteria_masks.tif is a low contrast image\n",
      "utils.py (328): /mnt/efs/aimbl_2025/student_data/S-LS/stardist_masks_tif/img_051_bacteria_masks.tif is a low contrast image\n",
      "utils.py (328): /mnt/efs/aimbl_2025/student_data/S-LS/stardist_masks_tif/img_052_bacteria_masks.tif is a low contrast image\n",
      "utils.py (328): /mnt/efs/aimbl_2025/student_data/S-LS/stardist_masks_tif/img_053_bacteria_masks.tif is a low contrast image\n",
      "utils.py (328): /mnt/efs/aimbl_2025/student_data/S-LS/stardist_masks_tif/img_054_bacteria_masks.tif is a low contrast image\n",
      "utils.py (328): /mnt/efs/aimbl_2025/student_data/S-LS/stardist_masks_tif/img_055_bacteria_masks.tif is a low contrast image\n",
      "utils.py (328): /mnt/efs/aimbl_2025/student_data/S-LS/stardist_masks_tif/img_056_bacteria_masks.tif is a low contrast image\n",
      "utils.py (328): /mnt/efs/aimbl_2025/student_data/S-LS/stardist_masks_tif/img_057_bacteria_masks.tif is a low contrast image\n",
      "utils.py (328): /mnt/efs/aimbl_2025/student_data/S-LS/stardist_masks_tif/img_058_bacteria_masks.tif is a low contrast image\n",
      "utils.py (328): /mnt/efs/aimbl_2025/student_data/S-LS/stardist_masks_tif/img_059_bacteria_masks.tif is a low contrast image\n",
      "utils.py (328): /mnt/efs/aimbl_2025/student_data/S-LS/stardist_masks_tif/img_060_bacteria_masks.tif is a low contrast image\n",
      "utils.py (328): /mnt/efs/aimbl_2025/student_data/S-LS/stardist_masks_tif/img_061_bacteria_masks.tif is a low contrast image\n",
      "utils.py (328): /mnt/efs/aimbl_2025/student_data/S-LS/stardist_masks_tif/img_062_bacteria_masks.tif is a low contrast image\n",
      "utils.py (328): /mnt/efs/aimbl_2025/student_data/S-LS/stardist_masks_tif/img_063_bacteria_masks.tif is a low contrast image\n",
      "utils.py (328): /mnt/efs/aimbl_2025/student_data/S-LS/stardist_masks_tif/img_064_bacteria_masks.tif is a low contrast image\n",
      "utils.py (328): /mnt/efs/aimbl_2025/student_data/S-LS/stardist_masks_tif/img_065_bacteria_masks.tif is a low contrast image\n",
      "utils.py (328): /mnt/efs/aimbl_2025/student_data/S-LS/stardist_masks_tif/img_066_bacteria_masks.tif is a low contrast image\n",
      "utils.py (328): /mnt/efs/aimbl_2025/student_data/S-LS/stardist_masks_tif/img_067_bacteria_masks.tif is a low contrast image\n",
      "utils.py (328): /mnt/efs/aimbl_2025/student_data/S-LS/stardist_masks_tif/img_068_bacteria_masks.tif is a low contrast image\n",
      "utils.py (328): /mnt/efs/aimbl_2025/student_data/S-LS/stardist_masks_tif/img_069_bacteria_masks.tif is a low contrast image\n",
      "utils.py (328): /mnt/efs/aimbl_2025/student_data/S-LS/stardist_masks_tif/img_070_bacteria_masks.tif is a low contrast image\n",
      "utils.py (328): /mnt/efs/aimbl_2025/student_data/S-LS/stardist_masks_tif/img_071_bacteria_masks.tif is a low contrast image\n",
      "utils.py (328): /mnt/efs/aimbl_2025/student_data/S-LS/stardist_masks_tif/img_072_bacteria_masks.tif is a low contrast image\n"
     ]
    },
    {
     "name": "stdout",
     "output_type": "stream",
     "text": [
      "Done! Wrote 72 masks to saved TIFFs in /mnt/efs/aimbl_2025/student_data/S-LS/stardist_masks_tif.\n"
     ]
    }
   ],
   "source": [
    "from glob import glob\n",
    "import os\n",
    "import numpy as np\n",
    "from skimage.io import imread, imsave\n",
    "from csbdeep.utils import normalize\n",
    "from stardist.models import StarDist2D\n",
    "#import zarr\n",
    "\n",
    "# -------- gather inputs --------\n",
    "X = sorted(glob('/mnt/efs/aimbl_2025/student_data/S-LS/raw_bacteria/*.tif'))\n",
    "assert len(X) > 0, \"No .tif images found.\"\n",
    "\n",
    "# Peek first image to set sizes/axes\n",
    "im0 = imread(X[0])\n",
    "H, W = im0.shape[:2]\n",
    "n_channel = 1 if im0.ndim == 2 else im0.shape[-1]\n",
    "axis_norm = (0, 1)   # same as your snippet: normalize channels independently\n",
    "if n_channel > 1:\n",
    "    print(\"Normalizing image channels independently.\")\n",
    "\n",
    "# -------- load Stardist model (unchanged) --------\n",
    "ON_Stardist_model = StarDist2D(None, \"Stardist_training_model\", \"/home/S-LS/AI-MBL-2025/masketeers/\")\n",
    "\n",
    "# -------- outputs --------\n",
    "tif_out_dir = '/mnt/efs/aimbl_2025/student_data/S-LS/stardist_masks_tif'\n",
    "os.makedirs(tif_out_dir, exist_ok=True)\n",
    "\n",
    "# zarr_path = \"/mnt/efs/aimbl_2025/student_data/S-LS/stardist_masks.zarr\"\n",
    "N = len(X)\n",
    "\n",
    "# # Create Zarr stack with shape (N, H, W); chunk by slice for streaming writes\n",
    "# z = zarr.open_array(\n",
    "#     store=zarr_path,\n",
    "#     mode=\"w\",\n",
    "#     shape=(N, H, W),\n",
    "#     chunks=(552, 688),\n",
    "#     dtype=\"int32\"\n",
    "# )\n",
    "\n",
    "# -------- inference loop --------\n",
    "for i, fpath in enumerate(X):\n",
    "    img = imread(fpath)\n",
    "\n",
    "    # # enforce common size so stack is consistent\n",
    "    # if img.shape[:2] != (H, W):\n",
    "    #     raise ValueError(f\"Image size mismatch at {fpath}: got {img.shape[:2]}, expected {(H, W)}\")\n",
    "\n",
    "    norm_img = normalize(img, 1, 99.8, axis=axis_norm)\n",
    "\n",
    "    # Stardist prediction: labels = 2D int mask\n",
    "    labels, details = ON_Stardist_model.predict_instances(norm_img)\n",
    "    labels = labels.astype(np.int32)\n",
    "\n",
    "    # # save to Zarr stack\n",
    "    # z[i, :, :] = labels\n",
    "\n",
    "    # save individual TIFF outside the Zarr directory\n",
    "    stem = os.path.splitext(os.path.basename(fpath))[0]\n",
    "    imsave(os.path.join(tif_out_dir, f\"{stem}_masks.tif\"), labels)\n",
    "\n",
    "#print(f\"Done! Wrote {N} masks to {zarr_path} and saved TIFFs in {tif_out_dir}.\")\n",
    "print(f\"Done! Wrote {N} masks to saved TIFFs in {tif_out_dir}.\")"
   ]
  },
  {
   "cell_type": "code",
   "execution_count": 1,
   "id": "fe525398",
   "metadata": {},
   "outputs": [
    {
     "name": "stderr",
     "output_type": "stream",
     "text": [
      "bioimageio_utils.py (2): pkg_resources is deprecated as an API. See https://setuptools.pypa.io/en/latest/pkg_resources.html. The pkg_resources package is slated for removal as early as 2025-11-30. Refrain from using this package or pin to Setuptools<81.\n",
      "2025-09-04 00:32:08.041386: I tensorflow/core/util/port.cc:153] oneDNN custom operations are on. You may see slightly different numerical results due to floating-point round-off errors from different computation orders. To turn them off, set the environment variable `TF_ENABLE_ONEDNN_OPTS=0`.\n",
      "2025-09-04 00:32:08.150104: I tensorflow/core/platform/cpu_feature_guard.cc:210] This TensorFlow binary is optimized to use available CPU instructions in performance-critical operations.\n",
      "To enable the following instructions: AVX2 AVX512F AVX512_VNNI FMA, in other operations, rebuild TensorFlow with the appropriate compiler flags.\n",
      "2025-09-04 00:32:10.417985: I tensorflow/core/util/port.cc:153] oneDNN custom operations are on. You may see slightly different numerical results due to floating-point round-off errors from different computation orders. To turn them off, set the environment variable `TF_ENABLE_ONEDNN_OPTS=0`.\n"
     ]
    },
    {
     "name": "stdout",
     "output_type": "stream",
     "text": [
      "Found model '2D_demo' for 'StarDist2D'.\n"
     ]
    },
    {
     "name": "stderr",
     "output_type": "stream",
     "text": [
      "WARNING: All log messages before absl::InitializeLog() is called are written to STDERR\n",
      "W0000 00:00:1756945932.628706  664250 gpu_device.cc:2342] Cannot dlopen some GPU libraries. Please make sure the missing libraries mentioned above are installed properly if you would like to use GPU. Follow the guide at https://www.tensorflow.org/install/gpu for how to download and setup the required libraries for your platform.\n",
      "Skipping registering GPU devices...\n"
     ]
    },
    {
     "name": "stdout",
     "output_type": "stream",
     "text": [
      "Loading network weights from 'weights_best.h5'.\n",
      "Loading thresholds from 'thresholds.json'.\n",
      "Using default values: prob_thresh=0.486166, nms_thresh=0.5.\n"
     ]
    },
    {
     "name": "stderr",
     "output_type": "stream",
     "text": [
      "utils.py (328): /mnt/efs/aimbl_2025/student_data/S-LS/beforetraining_stardist_masks_tif/img_001_bacteria_bt_masks.tif is a low contrast image\n",
      "utils.py (328): /mnt/efs/aimbl_2025/student_data/S-LS/beforetraining_stardist_masks_tif/img_002_bacteria_bt_masks.tif is a low contrast image\n",
      "utils.py (328): /mnt/efs/aimbl_2025/student_data/S-LS/beforetraining_stardist_masks_tif/img_003_bacteria_bt_masks.tif is a low contrast image\n",
      "utils.py (328): /mnt/efs/aimbl_2025/student_data/S-LS/beforetraining_stardist_masks_tif/img_004_bacteria_bt_masks.tif is a low contrast image\n",
      "utils.py (328): /mnt/efs/aimbl_2025/student_data/S-LS/beforetraining_stardist_masks_tif/img_005_bacteria_bt_masks.tif is a low contrast image\n",
      "utils.py (328): /mnt/efs/aimbl_2025/student_data/S-LS/beforetraining_stardist_masks_tif/img_006_bacteria_bt_masks.tif is a low contrast image\n",
      "utils.py (328): /mnt/efs/aimbl_2025/student_data/S-LS/beforetraining_stardist_masks_tif/img_007_bacteria_bt_masks.tif is a low contrast image\n",
      "utils.py (328): /mnt/efs/aimbl_2025/student_data/S-LS/beforetraining_stardist_masks_tif/img_008_bacteria_bt_masks.tif is a low contrast image\n",
      "utils.py (328): /mnt/efs/aimbl_2025/student_data/S-LS/beforetraining_stardist_masks_tif/img_009_bacteria_bt_masks.tif is a low contrast image\n",
      "utils.py (328): /mnt/efs/aimbl_2025/student_data/S-LS/beforetraining_stardist_masks_tif/img_010_bacteria_bt_masks.tif is a low contrast image\n",
      "utils.py (328): /mnt/efs/aimbl_2025/student_data/S-LS/beforetraining_stardist_masks_tif/img_011_bacteria_bt_masks.tif is a low contrast image\n",
      "utils.py (328): /mnt/efs/aimbl_2025/student_data/S-LS/beforetraining_stardist_masks_tif/img_012_bacteria_bt_masks.tif is a low contrast image\n",
      "utils.py (328): /mnt/efs/aimbl_2025/student_data/S-LS/beforetraining_stardist_masks_tif/img_013_bacteria_bt_masks.tif is a low contrast image\n",
      "utils.py (328): /mnt/efs/aimbl_2025/student_data/S-LS/beforetraining_stardist_masks_tif/img_014_bacteria_bt_masks.tif is a low contrast image\n",
      "utils.py (328): /mnt/efs/aimbl_2025/student_data/S-LS/beforetraining_stardist_masks_tif/img_015_bacteria_bt_masks.tif is a low contrast image\n",
      "utils.py (328): /mnt/efs/aimbl_2025/student_data/S-LS/beforetraining_stardist_masks_tif/img_016_bacteria_bt_masks.tif is a low contrast image\n",
      "utils.py (328): /mnt/efs/aimbl_2025/student_data/S-LS/beforetraining_stardist_masks_tif/img_017_bacteria_bt_masks.tif is a low contrast image\n",
      "utils.py (328): /mnt/efs/aimbl_2025/student_data/S-LS/beforetraining_stardist_masks_tif/img_018_bacteria_bt_masks.tif is a low contrast image\n",
      "utils.py (328): /mnt/efs/aimbl_2025/student_data/S-LS/beforetraining_stardist_masks_tif/img_019_bacteria_bt_masks.tif is a low contrast image\n",
      "utils.py (328): /mnt/efs/aimbl_2025/student_data/S-LS/beforetraining_stardist_masks_tif/img_020_bacteria_bt_masks.tif is a low contrast image\n",
      "utils.py (328): /mnt/efs/aimbl_2025/student_data/S-LS/beforetraining_stardist_masks_tif/img_021_bacteria_bt_masks.tif is a low contrast image\n",
      "utils.py (328): /mnt/efs/aimbl_2025/student_data/S-LS/beforetraining_stardist_masks_tif/img_022_bacteria_bt_masks.tif is a low contrast image\n",
      "utils.py (328): /mnt/efs/aimbl_2025/student_data/S-LS/beforetraining_stardist_masks_tif/img_023_bacteria_bt_masks.tif is a low contrast image\n",
      "utils.py (328): /mnt/efs/aimbl_2025/student_data/S-LS/beforetraining_stardist_masks_tif/img_024_bacteria_bt_masks.tif is a low contrast image\n",
      "utils.py (328): /mnt/efs/aimbl_2025/student_data/S-LS/beforetraining_stardist_masks_tif/img_025_bacteria_bt_masks.tif is a low contrast image\n",
      "utils.py (328): /mnt/efs/aimbl_2025/student_data/S-LS/beforetraining_stardist_masks_tif/img_026_bacteria_bt_masks.tif is a low contrast image\n",
      "utils.py (328): /mnt/efs/aimbl_2025/student_data/S-LS/beforetraining_stardist_masks_tif/img_027_bacteria_bt_masks.tif is a low contrast image\n",
      "utils.py (328): /mnt/efs/aimbl_2025/student_data/S-LS/beforetraining_stardist_masks_tif/img_028_bacteria_bt_masks.tif is a low contrast image\n",
      "utils.py (328): /mnt/efs/aimbl_2025/student_data/S-LS/beforetraining_stardist_masks_tif/img_029_bacteria_bt_masks.tif is a low contrast image\n",
      "utils.py (328): /mnt/efs/aimbl_2025/student_data/S-LS/beforetraining_stardist_masks_tif/img_030_bacteria_bt_masks.tif is a low contrast image\n",
      "utils.py (328): /mnt/efs/aimbl_2025/student_data/S-LS/beforetraining_stardist_masks_tif/img_031_bacteria_bt_masks.tif is a low contrast image\n",
      "utils.py (328): /mnt/efs/aimbl_2025/student_data/S-LS/beforetraining_stardist_masks_tif/img_032_bacteria_bt_masks.tif is a low contrast image\n",
      "utils.py (328): /mnt/efs/aimbl_2025/student_data/S-LS/beforetraining_stardist_masks_tif/img_033_bacteria_bt_masks.tif is a low contrast image\n",
      "utils.py (328): /mnt/efs/aimbl_2025/student_data/S-LS/beforetraining_stardist_masks_tif/img_034_bacteria_bt_masks.tif is a low contrast image\n",
      "utils.py (328): /mnt/efs/aimbl_2025/student_data/S-LS/beforetraining_stardist_masks_tif/img_035_bacteria_bt_masks.tif is a low contrast image\n",
      "utils.py (328): /mnt/efs/aimbl_2025/student_data/S-LS/beforetraining_stardist_masks_tif/img_036_bacteria_bt_masks.tif is a low contrast image\n",
      "utils.py (328): /mnt/efs/aimbl_2025/student_data/S-LS/beforetraining_stardist_masks_tif/img_037_bacteria_bt_masks.tif is a low contrast image\n",
      "utils.py (328): /mnt/efs/aimbl_2025/student_data/S-LS/beforetraining_stardist_masks_tif/img_038_bacteria_bt_masks.tif is a low contrast image\n",
      "utils.py (328): /mnt/efs/aimbl_2025/student_data/S-LS/beforetraining_stardist_masks_tif/img_039_bacteria_bt_masks.tif is a low contrast image\n",
      "utils.py (328): /mnt/efs/aimbl_2025/student_data/S-LS/beforetraining_stardist_masks_tif/img_040_bacteria_bt_masks.tif is a low contrast image\n",
      "utils.py (328): /mnt/efs/aimbl_2025/student_data/S-LS/beforetraining_stardist_masks_tif/img_041_bacteria_bt_masks.tif is a low contrast image\n",
      "utils.py (328): /mnt/efs/aimbl_2025/student_data/S-LS/beforetraining_stardist_masks_tif/img_042_bacteria_bt_masks.tif is a low contrast image\n",
      "utils.py (328): /mnt/efs/aimbl_2025/student_data/S-LS/beforetraining_stardist_masks_tif/img_043_bacteria_bt_masks.tif is a low contrast image\n",
      "utils.py (328): /mnt/efs/aimbl_2025/student_data/S-LS/beforetraining_stardist_masks_tif/img_044_bacteria_bt_masks.tif is a low contrast image\n",
      "utils.py (328): /mnt/efs/aimbl_2025/student_data/S-LS/beforetraining_stardist_masks_tif/img_045_bacteria_bt_masks.tif is a low contrast image\n",
      "utils.py (328): /mnt/efs/aimbl_2025/student_data/S-LS/beforetraining_stardist_masks_tif/img_046_bacteria_bt_masks.tif is a low contrast image\n",
      "utils.py (328): /mnt/efs/aimbl_2025/student_data/S-LS/beforetraining_stardist_masks_tif/img_047_bacteria_bt_masks.tif is a low contrast image\n",
      "utils.py (328): /mnt/efs/aimbl_2025/student_data/S-LS/beforetraining_stardist_masks_tif/img_048_bacteria_bt_masks.tif is a low contrast image\n",
      "utils.py (328): /mnt/efs/aimbl_2025/student_data/S-LS/beforetraining_stardist_masks_tif/img_049_bacteria_bt_masks.tif is a low contrast image\n",
      "utils.py (328): /mnt/efs/aimbl_2025/student_data/S-LS/beforetraining_stardist_masks_tif/img_050_bacteria_bt_masks.tif is a low contrast image\n",
      "utils.py (328): /mnt/efs/aimbl_2025/student_data/S-LS/beforetraining_stardist_masks_tif/img_051_bacteria_bt_masks.tif is a low contrast image\n",
      "utils.py (328): /mnt/efs/aimbl_2025/student_data/S-LS/beforetraining_stardist_masks_tif/img_052_bacteria_bt_masks.tif is a low contrast image\n",
      "utils.py (328): /mnt/efs/aimbl_2025/student_data/S-LS/beforetraining_stardist_masks_tif/img_053_bacteria_bt_masks.tif is a low contrast image\n",
      "utils.py (328): /mnt/efs/aimbl_2025/student_data/S-LS/beforetraining_stardist_masks_tif/img_054_bacteria_bt_masks.tif is a low contrast image\n",
      "utils.py (328): /mnt/efs/aimbl_2025/student_data/S-LS/beforetraining_stardist_masks_tif/img_055_bacteria_bt_masks.tif is a low contrast image\n",
      "utils.py (328): /mnt/efs/aimbl_2025/student_data/S-LS/beforetraining_stardist_masks_tif/img_056_bacteria_bt_masks.tif is a low contrast image\n",
      "utils.py (328): /mnt/efs/aimbl_2025/student_data/S-LS/beforetraining_stardist_masks_tif/img_057_bacteria_bt_masks.tif is a low contrast image\n",
      "utils.py (328): /mnt/efs/aimbl_2025/student_data/S-LS/beforetraining_stardist_masks_tif/img_058_bacteria_bt_masks.tif is a low contrast image\n",
      "utils.py (328): /mnt/efs/aimbl_2025/student_data/S-LS/beforetraining_stardist_masks_tif/img_059_bacteria_bt_masks.tif is a low contrast image\n",
      "utils.py (328): /mnt/efs/aimbl_2025/student_data/S-LS/beforetraining_stardist_masks_tif/img_060_bacteria_bt_masks.tif is a low contrast image\n",
      "utils.py (328): /mnt/efs/aimbl_2025/student_data/S-LS/beforetraining_stardist_masks_tif/img_061_bacteria_bt_masks.tif is a low contrast image\n",
      "utils.py (328): /mnt/efs/aimbl_2025/student_data/S-LS/beforetraining_stardist_masks_tif/img_062_bacteria_bt_masks.tif is a low contrast image\n",
      "utils.py (328): /mnt/efs/aimbl_2025/student_data/S-LS/beforetraining_stardist_masks_tif/img_063_bacteria_bt_masks.tif is a low contrast image\n",
      "utils.py (328): /mnt/efs/aimbl_2025/student_data/S-LS/beforetraining_stardist_masks_tif/img_064_bacteria_bt_masks.tif is a low contrast image\n",
      "utils.py (328): /mnt/efs/aimbl_2025/student_data/S-LS/beforetraining_stardist_masks_tif/img_065_bacteria_bt_masks.tif is a low contrast image\n",
      "utils.py (328): /mnt/efs/aimbl_2025/student_data/S-LS/beforetraining_stardist_masks_tif/img_066_bacteria_bt_masks.tif is a low contrast image\n",
      "utils.py (328): /mnt/efs/aimbl_2025/student_data/S-LS/beforetraining_stardist_masks_tif/img_067_bacteria_bt_masks.tif is a low contrast image\n",
      "utils.py (328): /mnt/efs/aimbl_2025/student_data/S-LS/beforetraining_stardist_masks_tif/img_068_bacteria_bt_masks.tif is a low contrast image\n",
      "utils.py (328): /mnt/efs/aimbl_2025/student_data/S-LS/beforetraining_stardist_masks_tif/img_069_bacteria_bt_masks.tif is a low contrast image\n",
      "utils.py (328): /mnt/efs/aimbl_2025/student_data/S-LS/beforetraining_stardist_masks_tif/img_070_bacteria_bt_masks.tif is a low contrast image\n",
      "utils.py (328): /mnt/efs/aimbl_2025/student_data/S-LS/beforetraining_stardist_masks_tif/img_071_bacteria_bt_masks.tif is a low contrast image\n",
      "utils.py (328): /mnt/efs/aimbl_2025/student_data/S-LS/beforetraining_stardist_masks_tif/img_072_bacteria_bt_masks.tif is a low contrast image\n"
     ]
    },
    {
     "name": "stdout",
     "output_type": "stream",
     "text": [
      "Done! Wrote 72 masks to saved TIFFs in /mnt/efs/aimbl_2025/student_data/S-LS/beforetraining_stardist_masks_tif.\n"
     ]
    }
   ],
   "source": [
    "from glob import glob\n",
    "import os\n",
    "import numpy as np\n",
    "from skimage.io import imread, imsave\n",
    "from csbdeep.utils import normalize\n",
    "from stardist.models import StarDist2D\n",
    "#import zarr\n",
    "\n",
    "# -------- gather inputs --------\n",
    "X = sorted(glob('/mnt/efs/aimbl_2025/student_data/S-LS/raw_bacteria/*.tif'))\n",
    "assert len(X) > 0, \"No .tif images found.\"\n",
    "\n",
    "# Peek first image to set sizes/axes\n",
    "im0 = imread(X[0])\n",
    "H, W = im0.shape[:2]\n",
    "n_channel = 1 if im0.ndim == 2 else im0.shape[-1]\n",
    "axis_norm = (0, 1)   # same as your snippet: normalize channels independently\n",
    "if n_channel > 1:\n",
    "    print(\"Normalizing image channels independently.\")\n",
    "\n",
    "# -------- load Stardist model (unchanged) --------\n",
    "first_model = StarDist2D.from_pretrained('2D_demo')\n",
    "#ON_Stardist_model = StarDist2D(None, \"Stardist_training_model\", \"/home/S-LS/AI-MBL-2025/masketeers/\")\n",
    "\n",
    "# -------- outputs --------\n",
    "tif_out_dir = '/mnt/efs/aimbl_2025/student_data/S-LS/beforetraining_stardist_masks_tif'\n",
    "os.makedirs(tif_out_dir, exist_ok=True)\n",
    "\n",
    "# zarr_path = \"/mnt/efs/aimbl_2025/student_data/S-LS/stardist_masks.zarr\"\n",
    "N = len(X)\n",
    "\n",
    "# # Create Zarr stack with shape (N, H, W); chunk by slice for streaming writes\n",
    "# z = zarr.open_array(\n",
    "#     store=zarr_path,\n",
    "#     mode=\"w\",\n",
    "#     shape=(N, H, W),\n",
    "#     chunks=(552, 688),\n",
    "#     dtype=\"int32\"\n",
    "# )\n",
    "\n",
    "# -------- inference loop --------\n",
    "for i, fpath in enumerate(X):\n",
    "    img = imread(fpath)\n",
    "\n",
    "    # # enforce common size so stack is consistent\n",
    "    # if img.shape[:2] != (H, W):\n",
    "    #     raise ValueError(f\"Image size mismatch at {fpath}: got {img.shape[:2]}, expected {(H, W)}\")\n",
    "\n",
    "    norm_img = normalize(img, 1, 99.8, axis=axis_norm)\n",
    "\n",
    "    # Stardist prediction: labels = 2D int mask\n",
    "    labels, details = first_model.predict_instances(norm_img)\n",
    "    labels = labels.astype(np.int32)\n",
    "\n",
    "    # # save to Zarr stack\n",
    "    # z[i, :, :] = labels\n",
    "\n",
    "    # save individual TIFF outside the Zarr directory\n",
    "    stem = os.path.splitext(os.path.basename(fpath))[0]\n",
    "    imsave(os.path.join(tif_out_dir, f\"{stem}_bt_masks.tif\"), labels)\n",
    "\n",
    "#print(f\"Done! Wrote {N} masks to {zarr_path} and saved TIFFs in {tif_out_dir}.\")\n",
    "print(f\"Done! Wrote {N} masks to saved TIFFs in {tif_out_dir}.\")"
   ]
  },
  {
   "cell_type": "code",
   "execution_count": 2,
   "id": "0ddf9136",
   "metadata": {},
   "outputs": [
    {
     "name": "stderr",
     "output_type": "stream",
     "text": [
      "2939204271.py (25): Starting with ImageIO v3 the behavior of this function will switch to that of iio.v3.imread. To keep the current behavior (and make this warning disappear) use `import imageio.v2 as imageio` or call `imageio.v2.imread` directly.\n"
     ]
    },
    {
     "name": "stdout",
     "output_type": "stream",
     "text": [
      " Wrote 'before_training/before_training_stack' | shape=(72, 2208, 2752) | chunks=(1, 552, 688) | dtype=int32\n",
      " Wrote 'after_training/after_training_stack' | shape=(72, 2208, 2752) | chunks=(1, 552, 688) | dtype=int32\n"
     ]
    },
    {
     "data": {
      "text/html": [
       "<pre style=\"white-space:pre;overflow-x:auto;line-height:normal;font-family:Menlo,'DejaVu Sans Mono',consolas,'Courier New',monospace\"><span style=\"font-weight: bold\">/</span>\n",
       "├── <span style=\"font-weight: bold\">after_training</span>\n",
       "│   └── <span style=\"font-weight: bold\">after_training_stack</span> (72, 2208, 2752) int32\n",
       "└── <span style=\"font-weight: bold\">before_training</span>\n",
       "    └── <span style=\"font-weight: bold\">before_training_stack</span> (72, 2208, 2752) int32\n",
       "</pre>\n"
      ],
      "text/plain": [
       "\u001b[1m/\u001b[0m\n",
       "├── \u001b[1mafter_training\u001b[0m\n",
       "│   └── \u001b[1mafter_training_stack\u001b[0m (72, 2208, 2752) int32\n",
       "└── \u001b[1mbefore_training\u001b[0m\n",
       "    └── \u001b[1mbefore_training_stack\u001b[0m (72, 2208, 2752) int32\n"
      ]
     },
     "metadata": {},
     "output_type": "display_data"
    },
    {
     "name": "stdout",
     "output_type": "stream",
     "text": [
      "\n",
      "hola\n"
     ]
    }
   ],
   "source": [
    "import os\n",
    "from pathlib import Path\n",
    "import glob\n",
    "import numpy as np\n",
    "import imageio\n",
    "import zarr\n",
    "\n",
    "# Inputs\n",
    "bt_dir = \"/mnt/efs/aimbl_2025/student_data/S-LS/beforetraining_stardist_masks_tif\"\n",
    "at_dir  = \"/mnt/efs/aimbl_2025/student_data/S-LS/ON_stardist_masks_tif\"\n",
    "\n",
    "# Output Zarr store\n",
    "store_path = \"/mnt/efs/aimbl_2025/student_data/S-LS/stardist_output.zarr\"\n",
    "zarr.open(store_path, zarr_version=2)\n",
    "\n",
    "# Open/create root and subgroups\n",
    "root = zarr.group(store_path)\n",
    "bt_grp = root.create_group(\"before_training\") \n",
    "at_grp   = root.create_group(\"after_training\")    \n",
    "\n",
    "def stack_and_write(img_folder, group, dataset_name, chunks=(1,552,688)):\n",
    "    files = sorted(glob.glob(os.path.join(img_folder, \"*.tif\")))\n",
    "    N = len(files)\n",
    "    # Load all images, stack to (N, H, W)\n",
    "    stack = np.stack([imageio.imread(f) for f in files], axis=0)\n",
    "    N, H, W = stack.shape\n",
    "    \n",
    "\n",
    "    ds = group.create_array(name=dataset_name, shape=(N, H, W), chunks=chunks, dtype=\"int32\")\n",
    "    ds[...] = stack\n",
    "\n",
    "    ds.attrs[\"filenames\"] = [Path(f).name for f in files]\n",
    "\n",
    "    print(f\" Wrote '{group.path}/{dataset_name}' | shape={(N,H,W)} | chunks={chunks} | dtype=int32\")\n",
    "\n",
    "# Build the two stacks\n",
    "stack_and_write(bt_dir, bt_grp, \"before_training_stack\", chunks=(1,552,688))\n",
    "stack_and_write(at_dir,  at_grp,   \"after_training_stack\",   chunks=(1,552,688))\n",
    "\n",
    "\n",
    "print(root.tree())\n",
    "print(\"hola\")"
   ]
  },
  {
   "cell_type": "code",
   "execution_count": 1,
   "id": "da6d525d",
   "metadata": {},
   "outputs": [],
   "source": [
    "import zarr\n",
    "stardist_dir ='/mnt/efs/aimbl_2025/student_data/S-LS/stardist/stardist_output.zarr'\n",
    "raw_dir = '/mnt/efs/aimbl_2025/student_data/S-LS/my_data2.zarr'\n",
    "\n",
    "data_sd = zarr.open(stardist_dir, mode='r')\n",
    "data_raw= zarr.open(raw_dir, mode='r')\n",
    "\n",
    "before_training = data_sd['before_training']['before_training_stack'][:]\n",
    "after_training = data_sd['after_training']['after_training_stack'][:]\n",
    "raw_bacteria = data_raw['bacteria']['raw_bacteria_stack'][:]"
   ]
  },
  {
   "cell_type": "code",
   "execution_count": 2,
   "id": "7f52a932",
   "metadata": {},
   "outputs": [],
   "source": [
    "import os\n",
    "os.environ[\"DISPLAY\"] = ':1001'"
   ]
  },
  {
   "cell_type": "code",
   "execution_count": 3,
   "id": "41debfda",
   "metadata": {},
   "outputs": [],
   "source": [
    "import napari\n",
    "viewer=napari.Viewer()"
   ]
  },
  {
   "cell_type": "code",
   "execution_count": 4,
   "id": "0cd1df13",
   "metadata": {},
   "outputs": [
    {
     "name": "stderr",
     "output_type": "stream",
     "text": [
      "/home/S-LS/conda/envs/stardist_env/lib/python3.12/site-packages/numba/np/ufunc/parallel.py:371: NumbaWarning: The TBB threading layer requires TBB version 2021 update 6 or later i.e., TBB_INTERFACE_VERSION >= 12060. Found TBB_INTERFACE_VERSION = 12050. The TBB threading layer is disabled.\n",
      "  warnings.warn(problem)\n"
     ]
    },
    {
     "data": {
      "text/plain": [
       "<Labels layer 'after' at 0x78435dd18800>"
      ]
     },
     "execution_count": 4,
     "metadata": {},
     "output_type": "execute_result"
    }
   ],
   "source": [
    "viewer.add_image(raw_bacteria[32], name=\"raw_image\")\n",
    "viewer.add_labels(before_training[32], name='before')\n",
    "viewer.add_labels(after_training[32], name='after')"
   ]
  }
 ],
 "metadata": {
  "kernelspec": {
   "display_name": "stardist_env",
   "language": "python",
   "name": "python3"
  },
  "language_info": {
   "codemirror_mode": {
    "name": "ipython",
    "version": 3
   },
   "file_extension": ".py",
   "mimetype": "text/x-python",
   "name": "python",
   "nbconvert_exporter": "python",
   "pygments_lexer": "ipython3",
   "version": "3.12.11"
  }
 },
 "nbformat": 4,
 "nbformat_minor": 5
}
