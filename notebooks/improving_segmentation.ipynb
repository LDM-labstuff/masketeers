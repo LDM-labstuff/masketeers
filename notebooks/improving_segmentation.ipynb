{
 "cells": [
  {
   "cell_type": "code",
   "execution_count": 2,
   "id": "333a4d0a",
   "metadata": {},
   "outputs": [],
   "source": [
    "import zarr \n",
    "import numpy as np\n",
    "import imageio\n",
    "import os\n"
   ]
  },
  {
   "cell_type": "code",
   "execution_count": 5,
   "id": "27cdf8ef",
   "metadata": {},
   "outputs": [
    {
     "name": "stdout",
     "output_type": "stream",
     "text": [
      "(1818, 2425)\n",
      "/mnt/efs/aimbl_2025/student_data/S-DM/Data/tresholded_1_channel_images/FTL_AD_NA19-386_XY01.tif\n"
     ]
    },
    {
     "name": "stderr",
     "output_type": "stream",
     "text": [
      "/tmp/ipykernel_431933/3854449609.py:6: DeprecationWarning: Starting with ImageIO v3 the behavior of this function will switch to that of iio.v3.imread. To keep the current behavior (and make this warning disappear) use `import imageio.v2 as imageio` or call `imageio.v2.imread` directly.\n",
      "  test_image = imageio.imread (tiff_files[0])\n"
     ]
    }
   ],
   "source": [
    "#Getting List of Image File Names\n",
    "path = \"/mnt/efs/aimbl_2025/student_data/S-DM/Data/tresholded_1_channel_images/\"\n",
    "tiff_files = sorted([os.path.join(path, f) for f in os.listdir(path) if f.endswith('.tiff') or f.endswith('.tif')])\n",
    "len (tiff_files)\n",
    "\n",
    "test_image = imageio.imread (tiff_files[0])\n",
    "print (test_image.shape)\n",
    "print (tiff_files[0])"
   ]
  },
  {
   "cell_type": "code",
   "execution_count": 10,
   "id": "653c6009",
   "metadata": {},
   "outputs": [],
   "source": [
    "seg_folder_path = \"/mnt/efs/aimbl_2025/student_data/S-DM/Data/classes/\"\n",
    "target_folder_path = \"/mnt/efs/aimbl_2025/student_data/S-DM/Data/classes_2/\""
   ]
  },
  {
   "cell_type": "code",
   "execution_count": 17,
   "id": "41985c47",
   "metadata": {},
   "outputs": [
    {
     "name": "stderr",
     "output_type": "stream",
     "text": [
      "/tmp/ipykernel_431933/388539880.py:4: DeprecationWarning: Starting with ImageIO v3 the behavior of this function will switch to that of iio.v3.imread. To keep the current behavior (and make this warning disappear) use `import imageio.v2 as imageio` or call `imageio.v2.imread` directly.\n",
      "  threshold_mask = imageio.imread (image)\n",
      "/tmp/ipykernel_431933/388539880.py:11: DeprecationWarning: Starting with ImageIO v3 the behavior of this function will switch to that of iio.v3.imread. To keep the current behavior (and make this warning disappear) use `import imageio.v2 as imageio` or call `imageio.v2.imread` directly.\n",
      "  segmentation = imageio.imread (open_path)\n"
     ]
    }
   ],
   "source": [
    "classes = sorted(os.listdir (seg_folder_path))\n",
    "# print (classes)\n",
    "for image in tiff_files:\n",
    "    threshold_mask = imageio.imread (image)\n",
    "    image_name = image.split (\"/\")[-1]\n",
    "    # print (image_name)\n",
    "    for cl in classes:\n",
    "        open_path = os.path.join (seg_folder_path, cl, image_name)\n",
    "        save_path = os.path.join (target_folder_path, cl, image_name)\n",
    "        if os.path.exists (open_path):\n",
    "            segmentation = imageio.imread (open_path)\n",
    "            segmentation [threshold_mask ==0] = 0\n",
    "            imageio.imwrite (save_path, segmentation)\n",
    "        # print (save_path)"
   ]
  }
 ],
 "metadata": {
  "kernelspec": {
   "display_name": "masketeers",
   "language": "python",
   "name": "python3"
  },
  "language_info": {
   "codemirror_mode": {
    "name": "ipython",
    "version": 3
   },
   "file_extension": ".py",
   "mimetype": "text/x-python",
   "name": "python",
   "nbconvert_exporter": "python",
   "pygments_lexer": "ipython3",
   "version": "3.11.13"
  }
 },
 "nbformat": 4,
 "nbformat_minor": 5
}
