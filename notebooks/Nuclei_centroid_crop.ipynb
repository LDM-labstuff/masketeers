{
 "cells": [
  {
   "cell_type": "markdown",
   "id": "e26c4bc5",
   "metadata": {},
   "source": [
    "Finding the centroid of segmented nuclei and cropping image\n",
    "1. Load the zarr file containing the masks and determine the number of treatments and masks\n",
    "2. Iterate through the masks to: remove boundary objects and determine the centroid for each instance segmentation\n"
   ]
  },
  {
   "cell_type": "code",
   "execution_count": 5,
   "id": "f803ea1a",
   "metadata": {},
   "outputs": [
    {
     "name": "stdout",
     "output_type": "stream",
     "text": [
      "Treatment: 1uMdoxo has 115 masks\n",
      "Mask shape: (115, 512, 512)\n",
      "Treatment: DMSO has 115 masks\n",
      "Mask shape: (115, 512, 512)\n",
      "Treatment: 10uMmg132 has 115 masks\n",
      "Mask shape: (115, 512, 512)\n",
      "Treatment: 5uMflavo has 115 masks\n",
      "Mask shape: (115, 512, 512)\n",
      "Treatment: 800nMActD has 145 masks\n",
      "Mask shape: (145, 512, 512)\n",
      "Treatment: 10uMwort has 115 masks\n",
      "Mask shape: (115, 512, 512)\n",
      "Treatment: CX5461 has 115 masks\n",
      "Mask shape: (115, 512, 512)\n",
      "Treatment: 8nMActD has 115 masks\n",
      "Mask shape: (115, 512, 512)\n"
     ]
    }
   ],
   "source": [
    "import zarr\n",
    "import numpy as np\n",
    "\n",
    "# Load zarr file\n",
    "z= zarr.open(\"/mnt/efs/aimbl_2025/student_data/S-DD/LDM_treatments.zarr\", mode=\"r\")\n",
    "\n",
    "# Explore zarr to find treatments and masks\n",
    "\n",
    "treatments = list(z.keys())\n",
    "for treatment in treatments:\n",
    "    print(f\"Treatment: {treatment} has {z[treatment]['masks'].shape[0]} masks\")\n",
    "    print(f\"Mask shape: {z[treatment]['masks'].shape}\")\n"
   ]
  },
  {
   "cell_type": "markdown",
   "id": "5e213096",
   "metadata": {},
   "source": [
    "2. Iterate through the masks to: remove boundary objects and determine the centroid for each instance segmentation"
   ]
  },
  {
   "cell_type": "code",
   "execution_count": 4,
   "id": "1a62220f",
   "metadata": {},
   "outputs": [
    {
     "name": "stdout",
     "output_type": "stream",
     "text": [
      "(512, 512) int32\n",
      "(15, 3, 512, 512) uint8\n",
      "Number of nuclei in mask: 22\n",
      "[<skimage.measure._regionprops.RegionProperties object at 0x7f808cacbe10>, <skimage.measure._regionprops.RegionProperties object at 0x7f808cacaa50>, <skimage.measure._regionprops.RegionProperties object at 0x7f808caa3c90>, <skimage.measure._regionprops.RegionProperties object at 0x7f808caa0c90>, <skimage.measure._regionprops.RegionProperties object at 0x7f808caa0e10>, <skimage.measure._regionprops.RegionProperties object at 0x7f808caa3d90>, <skimage.measure._regionprops.RegionProperties object at 0x7f808caa31d0>, <skimage.measure._regionprops.RegionProperties object at 0x7f808caa1210>, <skimage.measure._regionprops.RegionProperties object at 0x7f808caa1350>, <skimage.measure._regionprops.RegionProperties object at 0x7f808caa3b90>, <skimage.measure._regionprops.RegionProperties object at 0x7f808caa3e50>, <skimage.measure._regionprops.RegionProperties object at 0x7f808caa1410>, <skimage.measure._regionprops.RegionProperties object at 0x7f808caa32d0>, <skimage.measure._regionprops.RegionProperties object at 0x7f808caa3090>, <skimage.measure._regionprops.RegionProperties object at 0x7f808caa3350>, <skimage.measure._regionprops.RegionProperties object at 0x7f808caa33d0>, <skimage.measure._regionprops.RegionProperties object at 0x7f808caa3410>, <skimage.measure._regionprops.RegionProperties object at 0x7f808caa3250>, <skimage.measure._regionprops.RegionProperties object at 0x7f808caa3110>, <skimage.measure._regionprops.RegionProperties object at 0x7f808caa3150>, <skimage.measure._regionprops.RegionProperties object at 0x7f808caa2990>, <skimage.measure._regionprops.RegionProperties object at 0x7f808caa3450>]\n",
      "cropped masks array shape: (22, 1, 128, 128)\n",
      "cropped raw array shape: (22, 15, 3, 128, 128)\n",
      "(np.float64(383.4534841298796), np.float64(378.31959139000367))\n",
      "(np.float64(109.88689586447434), np.float64(221.8624813153961))\n",
      "(np.float64(334.49663425579655), np.float64(481.20568436798806))\n",
      "(np.float64(465.5878084179971), np.float64(129.17803580067732))\n",
      "(np.float64(425.0621212121212), np.float64(450.9550505050505))\n",
      "(np.float64(140.62983425414365), np.float64(490.7298956414979))\n",
      "(np.float64(523.6449612403101), np.float64(355.7604651162791))\n",
      "(np.float64(140.0966469428008), np.float64(424.04881656804736))\n",
      "(np.float64(212.93386243386243), np.float64(488.1296296296296))\n",
      "(np.float64(146.92906364004864), np.float64(136.20024321037698))\n",
      "(np.float64(260.56153436334574), np.float64(352.66968566862016))\n",
      "(np.float64(314.8430428502648), np.float64(534.7905633124699))\n",
      "(np.float64(547.238850346878), np.float64(270.18434093161545))\n",
      "(np.float64(536.54272778721), np.float64(516.4634974533107))\n",
      "(np.float64(342.9317617866005), np.float64(94.3362282878412))\n",
      "(np.float64(227.05188421627525), np.float64(309.9885308574549))\n",
      "(np.float64(372.6266077170418), np.float64(206.2435691318328))\n",
      "(np.float64(210.49459724950884), np.float64(224.95383104125736))\n",
      "(np.float64(93.86109476162449), np.float64(312.47263095938786))\n",
      "(np.float64(99.81412854661262), np.float64(543.1169658367111))\n",
      "(np.float64(110.8542600896861), np.float64(79.49551569506727))\n",
      "(np.float64(471.0444444444444), np.float64(388.1111111111111))\n",
      "cropped masks array shape: (22, 1, 128, 128)\n",
      "cropped raw array shape: (22, 15, 3, 128, 128)\n"
     ]
    }
   ],
   "source": [
    "from skimage.segmentation import clear_border\n",
    "from skimage.measure import regionprops\n",
    "\n",
    "sample_mask=z[\"DMSO\"][\"masks\"][0]  # Example mask for DMSO treatment\n",
    "raw_image=z[\"DMSO\"][\"raw\"][0]  # Corresponding raw image\n",
    "print(sample_mask.shape, sample_mask.dtype)\n",
    "print(raw_image.shape, raw_image.dtype)\n",
    "cleared_border = clear_border(sample_mask)\n",
    "padded_mask = np.pad(cleared_border, pad_width=64, mode='constant', constant_values=0)\n",
    "padded_raw = np.pad(raw_image, pad_width=((0, 0),(0, 0),(64, 64), (64, 64)), mode='symmetric')\n",
    "props_num = len(regionprops(padded_mask))\n",
    "print(f\"Number of nuclei in mask: {props_num}\")\n",
    "cropped_raw_np = np.zeros((props_num, 15, 3, 128, 128), dtype=np.uint8)\n",
    "cropped_mask_np = np.zeros((props_num, 1, 128, 128), dtype=np.int32)\n",
    "print(f\"cropped masks array shape: {cropped_mask_np.shape}\")\n",
    "print(f\"cropped raw array shape: {cropped_raw_np.shape}\")\n",
    "for i, props in enumerate(regionprops(padded_mask)):\n",
    "    centroid = props.centroid\n",
    "    print(centroid)\n",
    "    crop_box = [int(centroid[0])-64, int(centroid[0])+64, int(centroid[1])-64, int(centroid[1])+64]\n",
    "    raw_crop = padded_raw[:,:,crop_box[0]:crop_box[1], crop_box[2]:crop_box[3]]\n",
    "    mask_crop = padded_mask[crop_box[0]:crop_box[1], crop_box[2]:crop_box[3]]\n",
    "    mask_bool = mask_crop == props.label\n",
    "    raw_crop[:, :, ~mask_bool] = 0\n",
    "    cropped_raw_np[i] = raw_crop\n",
    "    cropped_mask_np[i] = mask_bool\n",
    "print(f\"cropped masks array shape: {cropped_mask_np.shape}\")\n",
    "print(f\"cropped raw array shape: {cropped_raw_np.shape}\")\n"
   ]
  },
  {
   "cell_type": "markdown",
   "id": "360a5560",
   "metadata": {},
   "source": [
    "View images"
   ]
  },
  {
   "cell_type": "code",
   "execution_count": 37,
   "id": "599b541e",
   "metadata": {},
   "outputs": [
    {
     "data": {
      "image/png": "[encoded data removed]",
      "text/plain": [
       "<Figure size 640x480 with 2 Axes>"
      ]
     },
     "metadata": {},
     "output_type": "display_data"
    }
   ],
   "source": [
    "import matplotlib.pyplot as plt\n",
    "\n",
    "#load examples\n",
    "sample_mask = cropped_mask_np[0, 0]\n",
    "sample_raw = cropped_raw_np[0, 7, 0]\n",
    "#visualize cleared mask\n",
    "fig, axes = plt.subplots(1, 2)\n",
    "axes[0].imshow(sample_mask, cmap=\"gray\")\n",
    "axes[0].set_title(f\"Mask\")\n",
    "axes[0].axis(\"off\")\n",
    "axes[1].imshow(sample_raw, cmap=\"gray\")\n",
    "axes[1].set_title(f\"Raw image\")\n",
    "axes[1].axis(\"off\")\n",
    "plt.show()"
   ]
  }
 ],
 "metadata": {
  "kernelspec": {
   "display_name": "masketeers",
   "language": "python",
   "name": "python3"
  },
  "language_info": {
   "codemirror_mode": {
    "name": "ipython",
    "version": 3
   },
   "file_extension": ".py",
   "mimetype": "text/x-python",
   "name": "python",
   "nbconvert_exporter": "python",
   "pygments_lexer": "ipython3",
   "version": "3.11.13"
  }
 },
 "nbformat": 4,
 "nbformat_minor": 5
}
