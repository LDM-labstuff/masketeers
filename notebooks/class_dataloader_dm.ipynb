{
 "cells": [
  {
   "cell_type": "code",
   "execution_count": 13,
   "id": "0e8cb327",
   "metadata": {},
   "outputs": [],
   "source": [
    "import torch\n",
    "import numpy as np\n",
    "import random\n",
    "import zarr\n",
    "from skimage.segmentation import relabel_sequential"
   ]
  },
  {
   "cell_type": "code",
   "execution_count": 32,
   "id": "8797eb8f",
   "metadata": {},
   "outputs": [
    {
     "name": "stdout",
     "output_type": "stream",
     "text": [
      "(11, 2729, 3640)\n"
     ]
    },
    {
     "data": {
      "text/plain": [
       "numpy.ndarray"
      ]
     },
     "execution_count": 32,
     "metadata": {},
     "output_type": "execute_result"
    }
   ],
   "source": [
    "random.seed(26)\n",
    "zarr_path = \"/mnt/efs/aimbl_2025/student_data/S-DM/Data/zarr_storage/test.zarr\"\n",
    "root = zarr.open (zarr_path)\n",
    "test_cond = random.choice (list(root.keys()))\n",
    "test_image = random.choice (list (root[test_cond].keys()))\n",
    "test_array = np.array (root[test_cond][test_image][\"y\"], dtype = \"int\")\n",
    "print (test_array.shape)\n",
    "type (test_array)\n",
    "\n"
   ]
  },
  {
   "cell_type": "code",
   "execution_count": 45,
   "id": "dd3b8be0",
   "metadata": {},
   "outputs": [
    {
     "name": "stdout",
     "output_type": "stream",
     "text": [
      "0\n",
      "0\n",
      "0\n",
      "0\n",
      "89\n",
      "14\n",
      "0\n",
      "0\n",
      "0\n",
      "19\n",
      "2326\n"
     ]
    }
   ],
   "source": [
    "for i in range(test_array.shape[0]):\n",
    "    print (test_array[i, :, :].max())"
   ]
  },
  {
   "cell_type": "code",
   "execution_count": 46,
   "id": "422bdbbd",
   "metadata": {},
   "outputs": [
    {
     "name": "stdout",
     "output_type": "stream",
     "text": [
      "(2729, 3640)\n",
      "2351\n"
     ]
    }
   ],
   "source": [
    "collapsed_array = test_array.sum(axis = 0)\n",
    "print (collapsed_array.shape)\n",
    "print (collapsed_array.max())"
   ]
  },
  {
   "cell_type": "code",
   "execution_count": 50,
   "id": "060a114f",
   "metadata": {},
   "outputs": [
    {
     "name": "stdout",
     "output_type": "stream",
     "text": [
      "2189\n"
     ]
    },
    {
     "data": {
      "text/plain": [
       "5"
      ]
     },
     "execution_count": 50,
     "metadata": {},
     "output_type": "execute_result"
    }
   ],
   "source": [
    "relabelled_array = relabel_sequential(collapsed_array)[0]\n",
    "print (relabelled_array.max())\n",
    "2729 //512"
   ]
  },
  {
   "cell_type": "code",
   "execution_count": 59,
   "id": "2a3f6ebf",
   "metadata": {},
   "outputs": [
    {
     "name": "stdout",
     "output_type": "stream",
     "text": [
      "(48, 512, 512)\n",
      "(2729, 3640)\n"
     ]
    }
   ],
   "source": [
    "def crop_tiles (image, crop_size):\n",
    "    h_tiles = (image.shape[0]//crop_size) + 1\n",
    "    v_tiles = (image.shape[1]//crop_size) + 1\n",
    "\n",
    "    new_h_shape = crop_size * h_tiles\n",
    "    new_v_shape = crop_size * v_tiles\n",
    "\n",
    "    new_image = np.zeros (shape = (new_h_shape, new_v_shape)) \n",
    "    new_image[0:image.shape[0], 0:image.shape[1]] = image\n",
    "    tiles = []\n",
    "    for i in range (h_tiles):\n",
    "        for j in range (v_tiles):\n",
    "            y_start = i * crop_size\n",
    "            y_end = (i+1) * crop_size\n",
    "            x_start = j * crop_size\n",
    "            x_end = (j+1)* crop_size\n",
    "\n",
    "            tile = new_image [y_start:y_end , x_start:x_end]\n",
    "            tiles.append (tile)\n",
    "    \n",
    "\n",
    "\n",
    "\n",
    "    return (np.stack (tiles))\n",
    "\n",
    "crop = crop_tiles (relabelled_array, 512)\n",
    "print (crop.shape)\n",
    "print (relabelled_array.shape)\n",
    "\n",
    "\n",
    "\n"
   ]
  },
  {
   "cell_type": "code",
   "execution_count": null,
   "id": "3540754a",
   "metadata": {},
   "outputs": [],
   "source": [
    "def load_data(zarr_path, crop_size):\n",
    "    root = zarr.open(zarr_path, mode='r')\n",
    "\n",
    "    # list of diseases\n",
    "    diseases = root.keys()\n",
    "    x_list = []\n",
    "    y_list = []\n",
    "    for d in diseases:\n",
    "        for fov in root[d].keys():\n",
    "            x = root[d][fov]['x']\n",
    "            y = root[d][fov]['y']\n",
    "\n",
    "            # Preprocessing\n",
    "            # collapse masks\n",
    "            y_collapsed = y.sum(axis = 0)\n",
    "            y_relabelled = relabel_sequential(y_collapsed)[0]\n",
    "\n",
    "            # tile x and y\n",
    "\n",
    "            x_list.append(x_processed)\n",
    "            y_list.append(y_processed)\n",
    "\n",
    "    X = np.stack(x_list)\n",
    "    y = np.stack(y_list)\n",
    "    return X, y "
   ]
  },
  {
   "cell_type": "code",
   "execution_count": null,
   "id": "4f746afc",
   "metadata": {},
   "outputs": [],
   "source": [
    "\n",
    "class CenterCropDataset(Dataset):\n",
    "    def __init__(self, zarr_path, crop_size=512):\n",
    "        self.root = zarr.open(zarr_path, mode='r')\n",
    "        self.X = self.root \n",
    "        self.Y = self.root['Y']\n",
    "        self.crop_size = crop_size\n",
    "\n",
    "    def __len__(self):\n",
    "        return len(self.X)\n",
    "\n",
    "    def __getitem__(self, idx):\n",
    "        img = self.X[idx]  # shape (C, H, W)\n",
    "        seg = self.Y[idx]  # shape (C, H, W) or (H, W) if single channel\n",
    "\n",
    "        # Find centers of objects in segmentation\n",
    "        centers = get_centers(seg if seg.ndim == 2 else seg[0])\n",
    "        center = random.choice(centers)\n",
    "\n",
    "        # Crop both image and segmentation\n",
    "        img_crop = crop_center(img, center, self.crop_size)\n",
    "        seg_crop = crop_center(seg, center, self.crop_size)\n",
    "\n",
    "        return torch.tensor(img_crop, dtype=torch.float32), torch.tensor(seg_crop, dtype=torch.float32)"
   ]
  }
 ],
 "metadata": {
  "kernelspec": {
   "display_name": "masketeers",
   "language": "python",
   "name": "python3"
  },
  "language_info": {
   "codemirror_mode": {
    "name": "ipython",
    "version": 3
   },
   "file_extension": ".py",
   "mimetype": "text/x-python",
   "name": "python",
   "nbconvert_exporter": "python",
   "pygments_lexer": "ipython3",
   "version": "3.11.13"
  }
 },
 "nbformat": 4,
 "nbformat_minor": 5
}
