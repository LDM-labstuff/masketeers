{
 "cells": [
  {
   "cell_type": "markdown",
   "id": "dc3d26eb",
   "metadata": {},
   "source": [
    "0) Setup (paths, pairing, helpers) — "
   ]
  },
  {
   "cell_type": "code",
   "execution_count": null,
   "id": "24b8fd49",
   "metadata": {},
   "outputs": [
    {
     "name": "stdout",
     "output_type": "stream",
     "text": [
      "Pairs to evaluate: [('mask_013_bacteria.tif', 'img_013_bacteria_masks.tif'), ('mask_014_bacteria.tif', 'img_014_bacteria_masks.tif'), ('mask_015_bacteria.tif', 'img_015_bacteria_masks.tif'), ('mask_016_bacteria.tif', 'img_016_bacteria_masks.tif'), ('mask_017_bacteria.tif', 'img_017_bacteria_masks.tif'), ('mask_018_bacteria.tif', 'img_018_bacteria_masks.tif'), ('mask_019_bacteria.tif', 'img_019_bacteria_masks.tif')]\n"
     ]
    }
   ],
   "source": [
    "import os, re\n",
    "from pathlib import Path\n",
    "import numpy as np\n",
    "import imageio.v2 as imageio\n",
    "from glob import glob\n",
    "from skimage.measure import label as cc_label  # only used if a mask is binary\n",
    "\n",
    "# ---- Paths ----\n",
    "GT_DIR   = \"/mnt/efs/aimbl_2025/student_data/S-LS/validation_mask_bacteria\"\n",
    "PRED_DIR = \"/mnt/efs/aimbl_2025/student_data/S-LS/stardist/ON_stardist_masks_tif\"\n",
    "\n",
    "# Evaluate only these IDs\n",
    "ALLOWED_IDS = {13, 14, 15, 16, 17, 18, 19}\n",
    "\n",
    "gt_pat   = re.compile(r\"^mask_(\\d+)_bacteria\\.tif$\")\n",
    "pred_pat = re.compile(r\"^img_(\\d+)_bacteria_masks\\.tif$\")\n",
    "\n",
    "def _pairs_from_dirs():\n",
    "    \"\"\"Return list of (gt_path, pred_path) for the allowed IDs.\"\"\"\n",
    "    pairs = []\n",
    "    for gtf in sorted(glob(os.path.join(GT_DIR, \"mask_*_bacteria.tif\"))):\n",
    "        m = gt_pat.match(Path(gtf).name)\n",
    "        if not m: \n",
    "            continue\n",
    "        idx = int(m.group(1))\n",
    "        if idx not in ALLOWED_IDS:\n",
    "            continue\n",
    "        pred_name = f\"img_{idx:03d}_bacteria_masks.tif\"\n",
    "        prf = os.path.join(PRED_DIR, pred_name)\n",
    "        if not os.path.exists(prf):\n",
    "            raise FileNotFoundError(f\"Missing prediction for GT {Path(gtf).name}: expected {pred_name}\")\n",
    "        pairs.append((gtf, prf))\n",
    "    assert pairs, \"No (GT, PRED) pairs found — check paths and filenames.\"\n",
    "    return pairs\n",
    "\n",
    "def _ensure_labeled(arr):\n",
    "    \"\"\"\n",
    "    Ensure an instance-labeled array: 0=background, 1..K=instances.\n",
    "    If the array is binary (only 0/1), perform connected-components labeling.\n",
    "    \"\"\"\n",
    "    arr = np.asarray(arr)\n",
    "    uniq = np.unique(arr)\n",
    "    if set(uniq.tolist()) <= {0,1}:  # binary -> label CCs\n",
    "        return cc_label(arr.astype(np.uint8), connectivity=1)\n",
    "    return arr.astype(np.int32)\n",
    "\n",
    "def _compact_map(labels):\n",
    "    \"\"\"Map arbitrary ids to 0..K, keep 0 as background.\"\"\"\n",
    "    labels = labels.astype(np.int64, copy=False)\n",
    "    max_id = int(labels.max())\n",
    "    if max_id == 0:\n",
    "        return labels.astype(np.int32), np.array([], dtype=np.int32)\n",
    "    ids = np.unique(labels)\n",
    "    ids = ids[ids != 0]\n",
    "    mapper = np.zeros(max_id + 1, dtype=np.int64)\n",
    "    mapper[ids] = np.arange(1, len(ids) + 1, dtype=np.int64)\n",
    "    return mapper[labels].astype(np.int32), ids.astype(np.int32)\n",
    "\n",
    "def _match_iou(y_true, y_pred, iou_thr=0.5):\n",
    "    \"\"\"\n",
    "    1–1 greedy matching of instances by IoU.\n",
    "    Returns dict with TP/FP/FN, matched IoUs list, and per-instance counts.\n",
    "    \"\"\"\n",
    "    t, p = _ensure_labeled(y_true), _ensure_labeled(y_pred)\n",
    "    assert t.shape == p.shape, f\"Shape mismatch {t.shape} vs {p.shape}\"\n",
    "\n",
    "    t_c, true_ids = _compact_map(t)\n",
    "    p_c, pred_ids = _compact_map(p)\n",
    "\n",
    "    T, P = len(true_ids), len(pred_ids)\n",
    "    if T == 0 and P == 0:\n",
    "        return dict(tp=0, fp=0, fn=0, ious=[])\n",
    "\n",
    "    area_t = np.bincount(t_c.ravel(), minlength=T+1)[1:].astype(np.int64)  # (T,)\n",
    "    area_p = np.bincount(p_c.ravel(), minlength=P+1)[1:].astype(np.int64)  # (P,)\n",
    "\n",
    "    # Intersection via 2D histogram trick\n",
    "    inter = np.bincount(\n",
    "        (t_c.ravel() * (P + 1) + p_c.ravel()),\n",
    "        minlength=(T + 1) * (P + 1)\n",
    "    ).reshape(T + 1, P + 1)[1:, 1:]  # (T,P)\n",
    "\n",
    "    union = area_t[:, None] + area_p[None, :] - inter\n",
    "    with np.errstate(divide='ignore', invalid='ignore'):\n",
    "        iou = inter / np.maximum(union, 1)\n",
    "\n",
    "    # Greedy 1–1 assignment\n",
    "    iou_work = iou.copy()\n",
    "    matched_ious = []\n",
    "    while True:\n",
    "        idx = np.argmax(iou_work)\n",
    "        i, j = divmod(idx, iou_work.shape[1]) if iou_work.size else (0, 0)\n",
    "        best = iou_work[i, j] if iou_work.size else 0.0\n",
    "        if best < iou_thr:\n",
    "            break\n",
    "        matched_ious.append(float(best))\n",
    "        iou_work[i, :] = -1\n",
    "        iou_work[:, j] = -1\n",
    "\n",
    "    tp = len(matched_ious)\n",
    "    fp = P - tp\n",
    "    fn = T - tp\n",
    "    return dict(tp=tp, fp=fp, fn=fn, ious=matched_ious, n_true=T, n_pred=P)\n",
    "\n",
    "PAIRS = _pairs_from_dirs()\n",
    "print(\"Pairs to evaluate:\", [ (Path(g).name, Path(p).name) for g,p in PAIRS ])"
   ]
  },
  {
   "cell_type": "markdown",
   "id": "c0f72a82",
   "metadata": {},
   "source": [
    "1) Precision, Recall, F1 (at IoU ≥ 0.5 by default)\n"
   ]
  },
  {
   "cell_type": "code",
   "execution_count": 2,
   "id": "361496b4",
   "metadata": {},
   "outputs": [
    {
     "name": "stdout",
     "output_type": "stream",
     "text": [
      "[IoU≥0.5]  Precision=0.8940  Recall=0.8539  F1=0.8735\n",
      "TP/FP/FN totals: 953 113 163\n",
      "mask_013_bacteria.tif: TP=202 FP=31 FN=44\n",
      "mask_014_bacteria.tif: TP=117 FP=21 FN=33\n",
      "mask_015_bacteria.tif: TP=46 FP=12 FN=15\n",
      "mask_016_bacteria.tif: TP=249 FP=15 FN=24\n",
      "mask_017_bacteria.tif: TP=72 FP=15 FN=18\n",
      "mask_018_bacteria.tif: TP=125 FP=12 FN=13\n",
      "mask_019_bacteria.tif: TP=142 FP=7 FN=16\n"
     ]
    }
   ],
   "source": [
    "IOU_THR = 0.5  # change to 0.7 for stricter matching\n",
    "\n",
    "tot_tp = tot_fp = tot_fn = 0\n",
    "per_image = []\n",
    "\n",
    "for gtf, prf in PAIRS:\n",
    "    gt = imageio.imread(gtf)\n",
    "    pr = imageio.imread(prf)\n",
    "    m = _match_iou(gt, pr, iou_thr=IOU_THR)\n",
    "    tot_tp += m[\"tp\"]; tot_fp += m[\"fp\"]; tot_fn += m[\"fn\"]\n",
    "    per_image.append((Path(gtf).name, m[\"tp\"], m[\"fp\"], m[\"fn\"]))\n",
    "\n",
    "precision = tot_tp / (tot_tp + tot_fp) if (tot_tp + tot_fp) else 1.0\n",
    "recall    = tot_tp / (tot_tp + tot_fn) if (tot_tp + tot_fn) else 1.0\n",
    "f1        = (2*precision*recall) / (precision + recall) if (precision + recall) else 1.0\n",
    "\n",
    "print(f\"[IoU≥{IOU_THR}]  Precision={precision:.4f}  Recall={recall:.4f}  F1={f1:.4f}\")\n",
    "print(\"TP/FP/FN totals:\", tot_tp, tot_fp, tot_fn)\n",
    "# Optional: per-image TP/FP/FN\n",
    "for name, tp, fp, fn in per_image:\n",
    "    print(f\"{name}: TP={tp} FP={fp} FN={fn}\")"
   ]
  },
  {
   "cell_type": "markdown",
   "id": "25a70fd1",
   "metadata": {},
   "source": [
    "2) Mean IoU of matched instances (same IoU threshold)"
   ]
  },
  {
   "cell_type": "code",
   "execution_count": 3,
   "id": "8dc451d7",
   "metadata": {},
   "outputs": [
    {
     "name": "stdout",
     "output_type": "stream",
     "text": [
      "[IoU≥0.5]  Mean IoU of matched instances = 0.7577\n",
      "(Matched pairs counted: 953)\n"
     ]
    }
   ],
   "source": [
    "IOU_THR = 0.5  # must match the threshold used for matching\n",
    "\n",
    "all_ious = []\n",
    "for gtf, prf in PAIRS:\n",
    "    gt = imageio.imread(gtf)\n",
    "    pr = imageio.imread(prf)\n",
    "    m = _match_iou(gt, pr, iou_thr=IOU_THR)\n",
    "    all_ious.extend(m[\"ious\"])\n",
    "\n",
    "mean_iou = float(np.mean(all_ious)) if all_ious else 0.0\n",
    "print(f\"[IoU≥{IOU_THR}]  Mean IoU of matched instances = {mean_iou:.4f}\")\n",
    "print(f\"(Matched pairs counted: {len(all_ious)})\")"
   ]
  },
  {
   "cell_type": "markdown",
   "id": "2bb78ca8",
   "metadata": {},
   "source": [
    "3) Counting error (absolute error in instance counts)"
   ]
  },
  {
   "cell_type": "code",
   "execution_count": 4,
   "id": "535b8491",
   "metadata": {},
   "outputs": [
    {
     "name": "stdout",
     "output_type": "stream",
     "text": [
      "Counting error (|#pred - #gt|): mean = 7.143\n",
      "mask_013_bacteria.tif: GT=246  Pred=233  |Δ|=13\n",
      "mask_014_bacteria.tif: GT=150  Pred=138  |Δ|=12\n",
      "mask_015_bacteria.tif: GT=61  Pred=58  |Δ|=3\n",
      "mask_016_bacteria.tif: GT=273  Pred=264  |Δ|=9\n",
      "mask_017_bacteria.tif: GT=90  Pred=87  |Δ|=3\n",
      "mask_018_bacteria.tif: GT=138  Pred=137  |Δ|=1\n",
      "mask_019_bacteria.tif: GT=158  Pred=149  |Δ|=9\n"
     ]
    }
   ],
   "source": [
    "abs_errors = []\n",
    "rows = []\n",
    "for gtf, prf in PAIRS:\n",
    "    gt = imageio.imread(gtf)\n",
    "    pr = imageio.imread(prf)\n",
    "    m = _match_iou(gt, pr, iou_thr=0.0)  # threshold doesn't matter for counts\n",
    "    err = abs(m[\"n_true\"] - m[\"n_pred\"])\n",
    "    abs_errors.append(err)\n",
    "    rows.append((Path(gtf).name, m[\"n_true\"], m[\"n_pred\"], err))\n",
    "\n",
    "mean_abs_err = float(np.mean(abs_errors)) if abs_errors else 0.0\n",
    "print(f\"Counting error (|#pred - #gt|): mean = {mean_abs_err:.3f}\")\n",
    "for name, n_t, n_p, e in rows:\n",
    "    print(f\"{name}: GT={n_t}  Pred={n_p}  |Δ|={e}\")"
   ]
  },
  {
   "cell_type": "code",
   "execution_count": 5,
   "id": "8b983a78",
   "metadata": {},
   "outputs": [
    {
     "name": "stdout",
     "output_type": "stream",
     "text": [
      "Pairs to evaluate Before training: [('mask_013_bacteria.tif', 'img_013_bacteria_bt_masks.tif'), ('mask_014_bacteria.tif', 'img_014_bacteria_bt_masks.tif'), ('mask_015_bacteria.tif', 'img_015_bacteria_bt_masks.tif'), ('mask_016_bacteria.tif', 'img_016_bacteria_bt_masks.tif'), ('mask_017_bacteria.tif', 'img_017_bacteria_bt_masks.tif'), ('mask_018_bacteria.tif', 'img_018_bacteria_bt_masks.tif'), ('mask_019_bacteria.tif', 'img_019_bacteria_bt_masks.tif')]\n"
     ]
    }
   ],
   "source": [
    "import os, re\n",
    "from pathlib import Path\n",
    "import numpy as np\n",
    "import imageio.v2 as imageio\n",
    "from glob import glob\n",
    "from skimage.measure import label as cc_label  # only used if a mask is binary\n",
    "\n",
    "# ---- Paths ----\n",
    "GT_DIR   = \"/mnt/efs/aimbl_2025/student_data/S-LS/validation_mask_bacteria\"\n",
    "PRED_DIR = \"/mnt/efs/aimbl_2025/student_data/S-LS/stardist/beforetraining_stardist_masks_tif\"\n",
    "\n",
    "# Evaluate only these IDs\n",
    "ALLOWED_IDS = {13, 14, 15, 16, 17, 18, 19}\n",
    "\n",
    "gt_pat   = re.compile(r\"^mask_(\\d+)_bacteria\\.tif$\")\n",
    "pred_pat = re.compile(r\"^img_(\\d+)_bacteria__bt_masks\\.tif$\")\n",
    "\n",
    "def _pairs_from_dirs():\n",
    "    \"\"\"Return list of (gt_path, pred_path) for the allowed IDs.\"\"\"\n",
    "    pairs = []\n",
    "    for gtf in sorted(glob(os.path.join(GT_DIR, \"mask_*_bacteria.tif\"))):\n",
    "        m = gt_pat.match(Path(gtf).name)\n",
    "        if not m: \n",
    "            continue\n",
    "        idx = int(m.group(1))\n",
    "        if idx not in ALLOWED_IDS:\n",
    "            continue\n",
    "        pred_name = f\"img_{idx:03d}_bacteria_bt_masks.tif\"\n",
    "        prf = os.path.join(PRED_DIR, pred_name)\n",
    "        if not os.path.exists(prf):\n",
    "            raise FileNotFoundError(f\"Missing prediction for GT {Path(gtf).name}: expected {pred_name}\")\n",
    "        pairs.append((gtf, prf))\n",
    "    assert pairs, \"No (GT, PRED) pairs found — check paths and filenames.\"\n",
    "    return pairs\n",
    "\n",
    "def _ensure_labeled(arr):\n",
    "    \"\"\"\n",
    "    Ensure an instance-labeled array: 0=background, 1..K=instances.\n",
    "    If the array is binary (only 0/1), perform connected-components labeling.\n",
    "    \"\"\"\n",
    "    arr = np.asarray(arr)\n",
    "    uniq = np.unique(arr)\n",
    "    if set(uniq.tolist()) <= {0,1}:  # binary -> label CCs\n",
    "        return cc_label(arr.astype(np.uint8), connectivity=1)\n",
    "    return arr.astype(np.int32)\n",
    "\n",
    "def _compact_map(labels):\n",
    "    \"\"\"Map arbitrary ids to 0..K, keep 0 as background.\"\"\"\n",
    "    labels = labels.astype(np.int64, copy=False)\n",
    "    max_id = int(labels.max())\n",
    "    if max_id == 0:\n",
    "        return labels.astype(np.int32), np.array([], dtype=np.int32)\n",
    "    ids = np.unique(labels)\n",
    "    ids = ids[ids != 0]\n",
    "    mapper = np.zeros(max_id + 1, dtype=np.int64)\n",
    "    mapper[ids] = np.arange(1, len(ids) + 1, dtype=np.int64)\n",
    "    return mapper[labels].astype(np.int32), ids.astype(np.int32)\n",
    "\n",
    "def _match_iou(y_true, y_pred, iou_thr=0.5):\n",
    "    \"\"\"\n",
    "    1–1 greedy matching of instances by IoU.\n",
    "    Returns dict with TP/FP/FN, matched IoUs list, and per-instance counts.\n",
    "    \"\"\"\n",
    "    t, p = _ensure_labeled(y_true), _ensure_labeled(y_pred)\n",
    "    assert t.shape == p.shape, f\"Shape mismatch {t.shape} vs {p.shape}\"\n",
    "\n",
    "    t_c, true_ids = _compact_map(t)\n",
    "    p_c, pred_ids = _compact_map(p)\n",
    "\n",
    "    T, P = len(true_ids), len(pred_ids)\n",
    "    if T == 0 and P == 0:\n",
    "        return dict(tp=0, fp=0, fn=0, ious=[])\n",
    "\n",
    "    area_t = np.bincount(t_c.ravel(), minlength=T+1)[1:].astype(np.int64)  # (T,)\n",
    "    area_p = np.bincount(p_c.ravel(), minlength=P+1)[1:].astype(np.int64)  # (P,)\n",
    "\n",
    "    # Intersection via 2D histogram trick\n",
    "    inter = np.bincount(\n",
    "        (t_c.ravel() * (P + 1) + p_c.ravel()),\n",
    "        minlength=(T + 1) * (P + 1)\n",
    "    ).reshape(T + 1, P + 1)[1:, 1:]  # (T,P)\n",
    "\n",
    "    union = area_t[:, None] + area_p[None, :] - inter\n",
    "    with np.errstate(divide='ignore', invalid='ignore'):\n",
    "        iou = inter / np.maximum(union, 1)\n",
    "\n",
    "    # Greedy 1–1 assignment\n",
    "    iou_work = iou.copy()\n",
    "    matched_ious = []\n",
    "    while True:\n",
    "        idx = np.argmax(iou_work)\n",
    "        i, j = divmod(idx, iou_work.shape[1]) if iou_work.size else (0, 0)\n",
    "        best = iou_work[i, j] if iou_work.size else 0.0\n",
    "        if best < iou_thr:\n",
    "            break\n",
    "        matched_ious.append(float(best))\n",
    "        iou_work[i, :] = -1\n",
    "        iou_work[:, j] = -1\n",
    "\n",
    "    tp = len(matched_ious)\n",
    "    fp = P - tp\n",
    "    fn = T - tp\n",
    "    return dict(tp=tp, fp=fp, fn=fn, ious=matched_ious, n_true=T, n_pred=P)\n",
    "\n",
    "PAIRS = _pairs_from_dirs()\n",
    "print(\"Pairs to evaluate Before training:\", [ (Path(g).name, Path(p).name) for g,p in PAIRS ])"
   ]
  },
  {
   "cell_type": "code",
   "execution_count": 6,
   "id": "cb7f14fe",
   "metadata": {},
   "outputs": [
    {
     "name": "stdout",
     "output_type": "stream",
     "text": [
      "Before training [IoU≥0.5]  Precision=0.7379  Recall=0.7796  F1=0.7582\n",
      "TP/FP/FN totals: 870 309 246\n",
      "mask_013_bacteria.tif: TP=183 FP=83 FN=63\n",
      "mask_014_bacteria.tif: TP=110 FP=44 FN=40\n",
      "mask_015_bacteria.tif: TP=35 FP=40 FN=26\n",
      "mask_016_bacteria.tif: TP=240 FP=23 FN=33\n",
      "mask_017_bacteria.tif: TP=62 FP=40 FN=28\n",
      "mask_018_bacteria.tif: TP=118 FP=47 FN=20\n",
      "mask_019_bacteria.tif: TP=122 FP=32 FN=36\n"
     ]
    }
   ],
   "source": [
    "IOU_THR = 0.5  # change to 0.7 for stricter matching\n",
    "\n",
    "tot_tp = tot_fp = tot_fn = 0\n",
    "per_image = []\n",
    "\n",
    "for gtf, prf in PAIRS:\n",
    "    gt = imageio.imread(gtf)\n",
    "    pr = imageio.imread(prf)\n",
    "    m = _match_iou(gt, pr, iou_thr=IOU_THR)\n",
    "    tot_tp += m[\"tp\"]; tot_fp += m[\"fp\"]; tot_fn += m[\"fn\"]\n",
    "    per_image.append((Path(gtf).name, m[\"tp\"], m[\"fp\"], m[\"fn\"]))\n",
    "\n",
    "precision = tot_tp / (tot_tp + tot_fp) if (tot_tp + tot_fp) else 1.0\n",
    "recall    = tot_tp / (tot_tp + tot_fn) if (tot_tp + tot_fn) else 1.0\n",
    "f1        = (2*precision*recall) / (precision + recall) if (precision + recall) else 1.0\n",
    "\n",
    "print(f\"Before training [IoU≥{IOU_THR}]  Precision={precision:.4f}  Recall={recall:.4f}  F1={f1:.4f}\")\n",
    "print(\"TP/FP/FN totals:\", tot_tp, tot_fp, tot_fn)\n",
    "# Optional: per-image TP/FP/FN\n",
    "for name, tp, fp, fn in per_image:\n",
    "    print(f\"{name}: TP={tp} FP={fp} FN={fn}\")"
   ]
  },
  {
   "cell_type": "code",
   "execution_count": 7,
   "id": "d3cc5b1c",
   "metadata": {},
   "outputs": [
    {
     "name": "stdout",
     "output_type": "stream",
     "text": [
      "Before training [IoU≥0.5]  Mean IoU of matched instances = 0.7523\n",
      "(Matched pairs counted: 870)\n"
     ]
    }
   ],
   "source": [
    "IOU_THR = 0.5  # must match the threshold used for matching\n",
    "\n",
    "all_ious = []\n",
    "for gtf, prf in PAIRS:\n",
    "    gt = imageio.imread(gtf)\n",
    "    pr = imageio.imread(prf)\n",
    "    m = _match_iou(gt, pr, iou_thr=IOU_THR)\n",
    "    all_ious.extend(m[\"ious\"])\n",
    "\n",
    "mean_iou = float(np.mean(all_ious)) if all_ious else 0.0\n",
    "print(f\"Before training [IoU≥{IOU_THR}]  Mean IoU of matched instances = {mean_iou:.4f}\")\n",
    "print(f\"(Matched pairs counted: {len(all_ious)})\")"
   ]
  },
  {
   "cell_type": "code",
   "execution_count": 8,
   "id": "dfa9c4e4",
   "metadata": {},
   "outputs": [
    {
     "name": "stdout",
     "output_type": "stream",
     "text": [
      "Before training, Counting error (|#pred - #gt|): mean = 13.000\n",
      "mask_013_bacteria.tif: GT=246  Pred=266  |Δ|=20\n",
      "mask_014_bacteria.tif: GT=150  Pred=154  |Δ|=4\n",
      "mask_015_bacteria.tif: GT=61  Pred=75  |Δ|=14\n",
      "mask_016_bacteria.tif: GT=273  Pred=263  |Δ|=10\n",
      "mask_017_bacteria.tif: GT=90  Pred=102  |Δ|=12\n",
      "mask_018_bacteria.tif: GT=138  Pred=165  |Δ|=27\n",
      "mask_019_bacteria.tif: GT=158  Pred=154  |Δ|=4\n"
     ]
    }
   ],
   "source": [
    "abs_errors = []\n",
    "rows = []\n",
    "for gtf, prf in PAIRS:\n",
    "    gt = imageio.imread(gtf)\n",
    "    pr = imageio.imread(prf)\n",
    "    m = _match_iou(gt, pr, iou_thr=0.0)  # threshold doesn't matter for counts\n",
    "    err = abs(m[\"n_true\"] - m[\"n_pred\"])\n",
    "    abs_errors.append(err)\n",
    "    rows.append((Path(gtf).name, m[\"n_true\"], m[\"n_pred\"], err))\n",
    "\n",
    "mean_abs_err = float(np.mean(abs_errors)) if abs_errors else 0.0\n",
    "print(f\"Before training, Counting error (|#pred - #gt|): mean = {mean_abs_err:.3f}\")\n",
    "for name, n_t, n_p, e in rows:\n",
    "    print(f\"{name}: GT={n_t}  Pred={n_p}  |Δ|={e}\")"
   ]
  },
  {
   "cell_type": "markdown",
   "id": "7fd87b7b",
   "metadata": {},
   "source": [
    "your model got better at detecting the right objects (↑precision/recall/F1, ↓counting error), but the shape/overlap quality of each correctly detected object stayed about the same (≈mean IoU). That’s very common in instance segmentation.\n",
    "\n",
    "Here’s what’s going on and what to check:\n",
    "\n",
    "Why mean IoU stayed flat\n",
    "\n",
    "Different aspects of quality:\n",
    "\n",
    "Precision/Recall/F1 measure detection—did you find each GT object and avoid spurious ones?\n",
    "\n",
    "Mean IoU (over matched pairs) measures overlap/shape accuracy of the objects you did detect.\n",
    "\n",
    "Training improved detection, not boundaries: Your model likely reduced FPs and FNs (fewer missed or extra instances), but the boundary predictions for matched objects stayed similar → mean IoU barely moves.\n",
    "\n",
    "Mean IoU only looks at matched pairs: If before/after are both matching roughly the same kinds of objects, their average IoU can remain stable even while you detect more total objects.\n",
    "\n",
    "Ceilings from data/geometry: IoU is often capped by annotation noise, pixel resolution, or the model’s shape family (e.g., StarDist’s star-convex polygons). Those limits keep IoU from rising much without architectural or labeling changes."
   ]
  }
 ],
 "metadata": {
  "kernelspec": {
   "display_name": "stardist_env",
   "language": "python",
   "name": "python3"
  },
  "language_info": {
   "codemirror_mode": {
    "name": "ipython",
    "version": 3
   },
   "file_extension": ".py",
   "mimetype": "text/x-python",
   "name": "python",
   "nbconvert_exporter": "python",
   "pygments_lexer": "ipython3",
   "version": "3.12.11"
  }
 },
 "nbformat": 4,
 "nbformat_minor": 5
}
