{
 "cells": [
  {
   "cell_type": "code",
   "execution_count": 1,
   "id": "589d05c9",
   "metadata": {},
   "outputs": [
    {
     "name": "stderr",
     "output_type": "stream",
     "text": [
      "/tmp/ipykernel_733603/3807115584.py:28: DeprecationWarning: Starting with ImageIO v3 the behavior of this function will switch to that of iio.v3.imread. To keep the current behavior (and make this warning disappear) use `import imageio.v2 as imageio` or call `imageio.v2.imread` directly.\n",
      "  stack = np.stack([imageio.imread(f) for f in files], axis=0)\n"
     ]
    },
    {
     "name": "stdout",
     "output_type": "stream",
     "text": [
      " Wrote 'pred_mask_bacteria/pred_mask_stack' | shape=(72, 2208, 2752) | chunks=(1, 552, 688) | dtype=uint16\n",
      " Wrote 'bacteria/raw_bacteria_stack' | shape=(72, 2208, 2752) | chunks=(1, 552, 688) | dtype=uint16\n",
      " Wrote 'marker/marker_stack' | shape=(72, 2208, 2752) | chunks=(1, 552, 688) | dtype=uint16\n"
     ]
    },
    {
     "data": {
      "text/html": [
       "<pre style=\"white-space:pre;overflow-x:auto;line-height:normal;font-family:Menlo,'DejaVu Sans Mono',consolas,'Courier New',monospace\"><span style=\"font-weight: bold\">/</span>\n",
       "├── <span style=\"font-weight: bold\">bacteria</span>\n",
       "│   └── <span style=\"font-weight: bold\">raw_bacteria_stack</span> (72, 2208, 2752) uint16\n",
       "├── <span style=\"font-weight: bold\">marker</span>\n",
       "│   └── <span style=\"font-weight: bold\">marker_stack</span> (72, 2208, 2752) uint16\n",
       "└── <span style=\"font-weight: bold\">pred_mask_bacteria</span>\n",
       "    └── <span style=\"font-weight: bold\">pred_mask_stack</span> (72, 2208, 2752) uint16\n",
       "</pre>\n"
      ],
      "text/plain": [
       "\u001b[1m/\u001b[0m\n",
       "├── \u001b[1mbacteria\u001b[0m\n",
       "│   └── \u001b[1mraw_bacteria_stack\u001b[0m (72, 2208, 2752) uint16\n",
       "├── \u001b[1mmarker\u001b[0m\n",
       "│   └── \u001b[1mmarker_stack\u001b[0m (72, 2208, 2752) uint16\n",
       "└── \u001b[1mpred_mask_bacteria\u001b[0m\n",
       "    └── \u001b[1mpred_mask_stack\u001b[0m (72, 2208, 2752) uint16\n"
      ]
     },
     "metadata": {},
     "output_type": "display_data"
    },
    {
     "name": "stdout",
     "output_type": "stream",
     "text": [
      "\n",
      "hola\n"
     ]
    }
   ],
   "source": [
    "import os\n",
    "from pathlib import Path\n",
    "import glob\n",
    "import numpy as np\n",
    "import imageio\n",
    "import zarr\n",
    "\n",
    "# Inputs\n",
    "pred_mask_dir = \"/mnt/efs/aimbl_2025/student_data/S-LS/stardist/ON_stardist_masks_tif\"\n",
    "raw_dir  = \"/mnt/efs/aimbl_2025/student_data/S-LS/raw_bacteria\"\n",
    "marker_dir = \"/mnt/efs/aimbl_2025/student_data/S-LS/tif_marker\"\n",
    "\n",
    "\n",
    "# Output Zarr store\n",
    "store_path = \"/mnt/efs/aimbl_2025/student_data/S-LS/marker_data.zarr\"\n",
    "zarr.open(store_path, zarr_version=2)\n",
    "\n",
    "# Open/create root and subgroups\n",
    "root = zarr.group(store_path)\n",
    "pred_masks_grp = root.create_group(\"pred_mask_bacteria\") \n",
    "raw_grp   = root.create_group(\"bacteria\")    \n",
    "marker_grp = root.create_group(\"marker\")    \n",
    "\n",
    "def stack_and_write(img_folder, group, dataset_name, chunks=(1,552,688)):\n",
    "    files = sorted(glob.glob(os.path.join(img_folder, \"*.tif\")))\n",
    "    N = len(files)\n",
    "    # Load all images, stack to (N, H, W)\n",
    "    stack = np.stack([imageio.imread(f) for f in files], axis=0)\n",
    "    N, H, W = stack.shape\n",
    "    \n",
    "\n",
    "    ds = group.create_array(name=dataset_name, shape=(N, H, W), chunks=chunks, dtype=\"uint16\")\n",
    "    ds[...] = stack\n",
    "\n",
    "    ds.attrs[\"filenames\"] = [Path(f).name for f in files]\n",
    "\n",
    "    print(f\" Wrote '{group.path}/{dataset_name}' | shape={(N,H,W)} | chunks={chunks} | dtype=uint16\")\n",
    "\n",
    "# Build the two stacks\n",
    "stack_and_write(pred_mask_dir, pred_masks_grp, \"pred_mask_stack\", chunks=(1,552,688))\n",
    "stack_and_write(raw_dir,  raw_grp,   \"raw_bacteria_stack\",   chunks=(1,552,688))\n",
    "stack_and_write(marker_dir,  marker_grp,   \"marker_stack\",   chunks=(1,552,688))\n",
    "\n",
    "\n",
    "print(root.tree())\n",
    "print(\"hola\")\n"
   ]
  }
 ],
 "metadata": {
  "kernelspec": {
   "display_name": "stardist_env",
   "language": "python",
   "name": "python3"
  },
  "language_info": {
   "codemirror_mode": {
    "name": "ipython",
    "version": 3
   },
   "file_extension": ".py",
   "mimetype": "text/x-python",
   "name": "python",
   "nbconvert_exporter": "python",
   "pygments_lexer": "ipython3",
   "version": "3.12.11"
  }
 },
 "nbformat": 4,
 "nbformat_minor": 5
}
